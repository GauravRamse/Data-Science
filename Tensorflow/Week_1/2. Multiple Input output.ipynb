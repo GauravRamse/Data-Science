{
 "cells": [
  {
   "cell_type": "code",
   "execution_count": 3,
   "metadata": {
    "collapsed": true
   },
   "outputs": [],
   "source": [
    "import tensorflow as tf\n",
    "import numpy as np\n",
    "from tensorflow import keras\n",
    "from tensorflow.keras.layers import Conv1D, Flatten, AveragePooling1D, Dense\n"
   ]
  },
  {
   "cell_type": "markdown",
   "source": [
    "In this coe we have provided two inputs and two outputs, where we have used two output with different loss function and to combine\n",
    "the loss function we have given weights to sparse_categorical_crossentropy and mse loss"
   ],
   "metadata": {
    "collapsed": false
   }
  },
  {
   "cell_type": "code",
   "execution_count": 4,
   "outputs": [
    {
     "name": "stdout",
     "output_type": "stream",
     "text": [
      "Model: \"functional_3\"\n",
      "__________________________________________________________________________________________________\n",
      "Layer (type)                    Output Shape         Param #     Connected to                     \n",
      "==================================================================================================\n",
      "inputs (InputLayer)             [(None, 32, 1)]      0                                            \n",
      "__________________________________________________________________________________________________\n",
      "conv1d_1 (Conv1D)               (None, 32, 10)       40          inputs[0][0]                     \n",
      "__________________________________________________________________________________________________\n",
      "average_pooling1d_1 (AveragePoo (None, 32, 10)       0           conv1d_1[0][0]                   \n",
      "__________________________________________________________________________________________________\n",
      "aux_input (InputLayer)          [(None, 12)]         0                                            \n",
      "__________________________________________________________________________________________________\n",
      "flatten_1 (Flatten)             (None, 320)          0           average_pooling1d_1[0][0]        \n",
      "__________________________________________________________________________________________________\n",
      "concatenate_1 (Concatenate)     (None, 332)          0           aux_input[0][0]                  \n",
      "                                                                 flatten_1[0][0]                  \n",
      "__________________________________________________________________________________________________\n",
      "dense_1 (Dense)                 (None, 40)           13320       concatenate_1[0][0]              \n",
      "__________________________________________________________________________________________________\n",
      "output (Dense)                  (None, 3)            123         dense_1[0][0]                    \n",
      "__________________________________________________________________________________________________\n",
      "aux_output (Dense)              (None, 1)            41          dense_1[0][0]                    \n",
      "==================================================================================================\n",
      "Total params: 13,524\n",
      "Trainable params: 13,524\n",
      "Non-trainable params: 0\n",
      "__________________________________________________________________________________________________\n"
     ]
    }
   ],
   "source": [
    "inputs = keras.Input(shape = (32,1), name='inputs')\n",
    "conv1 = Conv1D(10,3,1,'same', activation='relu')(inputs)\n",
    "avg = AveragePooling1D(3, strides = 1, padding='same')(conv1)\n",
    "flat = Flatten()(avg)\n",
    "\n",
    "aux_input = keras.Input(shape = (12,), name='aux_input')\n",
    "\n",
    "h = keras.layers.Concatenate()([aux_input, flat])\n",
    "\n",
    "den = Dense(40, activation='relu')(h)\n",
    "\n",
    "output = Dense(3, activation='softmax', name='output')(den)\n",
    "aux_output = Dense(1, name = \"aux_output\")(den)\n",
    "\n",
    "model = keras.Model(inputs = [inputs, aux_input], outputs=[output, aux_output])\n",
    "model.compile(optimizer='adam', loss = {\"output\": 'sparse_categorical_crossentropy', \"aux_output\":'mse'},\n",
    "          loss_weights={\"output\": 0.6, \"aux_output\":0.4})\n",
    "model.summary()\n",
    "\n",
    "\n",
    "\n"
   ],
   "metadata": {
    "collapsed": false,
    "pycharm": {
     "name": "#%%\n"
    }
   }
  }
 ],
 "metadata": {
  "kernelspec": {
   "display_name": "Python 3",
   "language": "python",
   "name": "python3"
  },
  "language_info": {
   "codemirror_mode": {
    "name": "ipython",
    "version": 2
   },
   "file_extension": ".py",
   "mimetype": "text/x-python",
   "name": "python",
   "nbconvert_exporter": "python",
   "pygments_lexer": "ipython2",
   "version": "2.7.6"
  }
 },
 "nbformat": 4,
 "nbformat_minor": 0
}