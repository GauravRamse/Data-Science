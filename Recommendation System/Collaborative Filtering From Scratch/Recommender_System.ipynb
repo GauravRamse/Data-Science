{
 "cells": [
  {
   "cell_type": "markdown",
   "id": "a2c815bc",
   "metadata": {},
   "source": [
    "## Index  \n",
    "1) [Importing Liabraries](#Section_0)  \n",
    "Q1) [Analysis of Problem and some recommendation about the methods we can use](#Section_1)  \n",
    " >   a)  [nan Value](#Section_1_1)  \n",
    " >   b)  [Explore Data](#Section_1_2)  \n",
    " >   c)  [Approch we can use to solve recommendation system](#Section_1_3)\n",
    " \n",
    "Q2) [Descision on above mentioned approach](#Section_2)    \n",
    "Q3) [Recommendation System](#section_3)  \n",
    ">    a) [Preprocessing of data](#Section_3_1)  \n",
    ">    b) [Create Test data](#Section_3_8)  \n",
    ">    c) [We will apply collaborative filtering to our dataset. ( From Scratch)](#Section_3_2)   \n",
    ">    d) [Training of model](#Section_3_3)  \n",
    ">    e) [Load the model from csv](#Section_3_4)  \n",
    ">    f) [user whose interest are similar](#Section_3_5)  \n",
    ">    g) [Probable similar content](#Section_3_6)  \n",
    ">    h) [Let's make hands dirty, and give recommendation to given user](#Section_3_7)  \n",
    "\n",
    "Q4) [Features and descision taken while deriving the model](#Section_4)    \n",
    "Q5) [How to scale the model](#Section_5)  \n",
    "Q6) [Representation of relation between user's, content's](#Section_6)  \n",
    "- [Reference](#Reference)"
   ]
  },
  {
   "cell_type": "markdown",
   "id": "a61e004a",
   "metadata": {},
   "source": [
    "## Import Liabraries  \n",
    "<a class=\"anchor\" id=\"Section_0\"></a>"
   ]
  },
  {
   "cell_type": "code",
   "execution_count": 1,
   "id": "afed2575",
   "metadata": {},
   "outputs": [],
   "source": [
    "import pandas as pd\n",
    "import matplotlib.pyplot as plt\n",
    "from tqdm import tqdm\n",
    "import numpy as np\n",
    "import seaborn as sn\n",
    "import random\n",
    "import plotly.express as px\n",
    "import plotly.graph_objects as go"
   ]
  },
  {
   "cell_type": "code",
   "execution_count": 2,
   "id": "8692e6a2",
   "metadata": {},
   "outputs": [],
   "source": [
    "base_dir = r'C:\\Users\\Gaurav Ramse\\Desktop\\Sem_3\\Docebo/'\n",
    "dataset_name = 'dataset-Assignment-DataScientist.csv'"
   ]
  },
  {
   "cell_type": "code",
   "execution_count": 3,
   "id": "d7ff5066",
   "metadata": {},
   "outputs": [],
   "source": [
    "df = pd.read_csv(base_dir + dataset_name)"
   ]
  },
  {
   "cell_type": "code",
   "execution_count": 4,
   "id": "aef7ad78",
   "metadata": {},
   "outputs": [
    {
     "data": {
      "text/plain": [
       "(57179, 6)"
      ]
     },
     "execution_count": 4,
     "metadata": {},
     "output_type": "execute_result"
    }
   ],
   "source": [
    "df.shape"
   ]
  },
  {
   "cell_type": "code",
   "execution_count": 5,
   "id": "752125b9",
   "metadata": {},
   "outputs": [
    {
     "data": {
      "text/html": [
       "<div>\n",
       "<style scoped>\n",
       "    .dataframe tbody tr th:only-of-type {\n",
       "        vertical-align: middle;\n",
       "    }\n",
       "\n",
       "    .dataframe tbody tr th {\n",
       "        vertical-align: top;\n",
       "    }\n",
       "\n",
       "    .dataframe thead th {\n",
       "        text-align: right;\n",
       "    }\n",
       "</style>\n",
       "<table border=\"1\" class=\"dataframe\">\n",
       "  <thead>\n",
       "    <tr style=\"text-align: right;\">\n",
       "      <th></th>\n",
       "      <th>content</th>\n",
       "      <th>content_created</th>\n",
       "      <th>is_private</th>\n",
       "      <th>duration</th>\n",
       "      <th>idUser</th>\n",
       "      <th>viewed</th>\n",
       "    </tr>\n",
       "  </thead>\n",
       "  <tbody>\n",
       "    <tr>\n",
       "      <th>0</th>\n",
       "      <td>29</td>\n",
       "      <td>2013-11-15 14:00:31</td>\n",
       "      <td>1.0</td>\n",
       "      <td>NaN</td>\n",
       "      <td>13580</td>\n",
       "      <td>2015-12-08 12:36:40</td>\n",
       "    </tr>\n",
       "    <tr>\n",
       "      <th>1</th>\n",
       "      <td>CS_1320</td>\n",
       "      <td>2018-04-10 15:17:01</td>\n",
       "      <td>0.0</td>\n",
       "      <td>NaN</td>\n",
       "      <td>13929</td>\n",
       "      <td>2018-04-10 17:44:24</td>\n",
       "    </tr>\n",
       "    <tr>\n",
       "      <th>2</th>\n",
       "      <td>CS_1285</td>\n",
       "      <td>2018-03-26 17:33:26</td>\n",
       "      <td>0.0</td>\n",
       "      <td>0.0</td>\n",
       "      <td>13903</td>\n",
       "      <td>2018-04-19 17:59:32</td>\n",
       "    </tr>\n",
       "    <tr>\n",
       "      <th>3</th>\n",
       "      <td>CS_1395</td>\n",
       "      <td>2018-05-15 21:01:01</td>\n",
       "      <td>0.0</td>\n",
       "      <td>0.0</td>\n",
       "      <td>13912</td>\n",
       "      <td>2018-05-16 23:12:07</td>\n",
       "    </tr>\n",
       "    <tr>\n",
       "      <th>4</th>\n",
       "      <td>99</td>\n",
       "      <td>2016-11-24 12:32:03</td>\n",
       "      <td>1.0</td>\n",
       "      <td>NaN</td>\n",
       "      <td>13830</td>\n",
       "      <td>2017-07-20 17:37:53</td>\n",
       "    </tr>\n",
       "  </tbody>\n",
       "</table>\n",
       "</div>"
      ],
      "text/plain": [
       "   content      content_created  is_private  duration  idUser  \\\n",
       "0       29  2013-11-15 14:00:31         1.0       NaN   13580   \n",
       "1  CS_1320  2018-04-10 15:17:01         0.0       NaN   13929   \n",
       "2  CS_1285  2018-03-26 17:33:26         0.0       0.0   13903   \n",
       "3  CS_1395  2018-05-15 21:01:01         0.0       0.0   13912   \n",
       "4       99  2016-11-24 12:32:03         1.0       NaN   13830   \n",
       "\n",
       "                viewed  \n",
       "0  2015-12-08 12:36:40  \n",
       "1  2018-04-10 17:44:24  \n",
       "2  2018-04-19 17:59:32  \n",
       "3  2018-05-16 23:12:07  \n",
       "4  2017-07-20 17:37:53  "
      ]
     },
     "execution_count": 5,
     "metadata": {},
     "output_type": "execute_result"
    }
   ],
   "source": [
    "df.head()"
   ]
  },
  {
   "cell_type": "markdown",
   "id": "a1ef3105",
   "metadata": {},
   "source": [
    "## Q-1) Analysis of the problem and its solution space  \n",
    "<a id=\"Section_1\"></a>"
   ]
  },
  {
   "cell_type": "markdown",
   "id": "732d48a4",
   "metadata": {},
   "source": [
    "First let's explore our data and find ratio of formal and informal courses.  \n",
    "Informal courses start with CS,  Formal courses start without CS.   \n"
   ]
  },
  {
   "cell_type": "code",
   "execution_count": 6,
   "id": "46375388",
   "metadata": {},
   "outputs": [
    {
     "name": "stdout",
     "output_type": "stream",
     "text": [
      " We have 267 unique user\n",
      " We have 801 unique courses\n"
     ]
    }
   ],
   "source": [
    "print(f\" We have {len(df['idUser'].unique())} unique user\")\n",
    "print(f\" We have {len(df['content'].unique())} unique courses\")"
   ]
  },
  {
   "cell_type": "markdown",
   "id": "42db79ea",
   "metadata": {},
   "source": [
    "### a) Nan value  \n",
    "<a id=\"Section_1_1\"></a>"
   ]
  },
  {
   "cell_type": "code",
   "execution_count": 7,
   "id": "95ae211b",
   "metadata": {},
   "outputs": [
    {
     "data": {
      "text/plain": [
       "content                2\n",
       "content_created        2\n",
       "is_private             2\n",
       "duration           31293\n",
       "idUser                 0\n",
       "viewed               816\n",
       "dtype: int64"
      ]
     },
     "execution_count": 7,
     "metadata": {},
     "output_type": "execute_result"
    }
   ],
   "source": [
    "# Let's see how many Nan value in each columns\n",
    "df.isna().sum()"
   ]
  },
  {
   "cell_type": "code",
   "execution_count": 8,
   "id": "d5857be5",
   "metadata": {},
   "outputs": [
    {
     "data": {
      "text/html": [
       "<div>\n",
       "<style scoped>\n",
       "    .dataframe tbody tr th:only-of-type {\n",
       "        vertical-align: middle;\n",
       "    }\n",
       "\n",
       "    .dataframe tbody tr th {\n",
       "        vertical-align: top;\n",
       "    }\n",
       "\n",
       "    .dataframe thead th {\n",
       "        text-align: right;\n",
       "    }\n",
       "</style>\n",
       "<table border=\"1\" class=\"dataframe\">\n",
       "  <thead>\n",
       "    <tr style=\"text-align: right;\">\n",
       "      <th></th>\n",
       "      <th>content</th>\n",
       "      <th>content_created</th>\n",
       "      <th>is_private</th>\n",
       "      <th>duration</th>\n",
       "      <th>idUser</th>\n",
       "      <th>viewed</th>\n",
       "    </tr>\n",
       "  </thead>\n",
       "  <tbody>\n",
       "    <tr>\n",
       "      <th>27779</th>\n",
       "      <td>NaN</td>\n",
       "      <td>NaN</td>\n",
       "      <td>NaN</td>\n",
       "      <td>NaN</td>\n",
       "      <td>12363</td>\n",
       "      <td>2013-06-17 08:25:34</td>\n",
       "    </tr>\n",
       "    <tr>\n",
       "      <th>48019</th>\n",
       "      <td>NaN</td>\n",
       "      <td>NaN</td>\n",
       "      <td>NaN</td>\n",
       "      <td>NaN</td>\n",
       "      <td>12363</td>\n",
       "      <td>2013-06-17 09:22:09</td>\n",
       "    </tr>\n",
       "  </tbody>\n",
       "</table>\n",
       "</div>"
      ],
      "text/plain": [
       "      content content_created  is_private  duration  idUser  \\\n",
       "27779     NaN             NaN         NaN       NaN   12363   \n",
       "48019     NaN             NaN         NaN       NaN   12363   \n",
       "\n",
       "                    viewed  \n",
       "27779  2013-06-17 08:25:34  \n",
       "48019  2013-06-17 09:22:09  "
      ]
     },
     "execution_count": 8,
     "metadata": {},
     "output_type": "execute_result"
    }
   ],
   "source": [
    "# as we have no content information that user watched, So we will drop that rows\n",
    "df[df.drop((['duration','viewed']), axis = 1).isnull().any(axis=1)]"
   ]
  },
  {
   "cell_type": "code",
   "execution_count": 9,
   "id": "2e60ac42",
   "metadata": {},
   "outputs": [],
   "source": [
    "# Dropping 2 rows which is not required for analysis as we don't have content name there.\n",
    "df.dropna(subset = ['content','content_created'], inplace=True)"
   ]
  },
  {
   "cell_type": "markdown",
   "id": "59fc21ac",
   "metadata": {},
   "source": [
    "### b) Explore data  \n",
    "<a id=\"Section_1_2\"></a>"
   ]
  },
  {
   "cell_type": "code",
   "execution_count": 10,
   "id": "9fe26e0e",
   "metadata": {},
   "outputs": [
    {
     "data": {
      "image/png": "[encoded data removed]",
      "text/plain": [
       "<Figure size 432x288 with 1 Axes>"
      ]
     },
     "metadata": {
      "needs_background": "light"
     },
     "output_type": "display_data"
    }
   ],
   "source": [
    "# calculate informal courses and formal courses\n",
    "temp_df = df['content'].str.startswith('CS').value_counts().to_frame()\n",
    "plt.bar(x = ['Informal', 'Formal'],height =temp_df['content'] )\n",
    "plt.show()"
   ]
  },
  {
   "cell_type": "code",
   "execution_count": 11,
   "id": "7be6bff2",
   "metadata": {},
   "outputs": [
    {
     "name": "stdout",
     "output_type": "stream",
     "text": [
      "Nan value in the duration column for informal courses is, 16007\n",
      "No of informal couses with zero value are, 22759\n"
     ]
    }
   ],
   "source": [
    "# From these value it seems that we informal courses are not revieling there course duration, Or data entry for \n",
    "# this column was not done.  \n",
    "\n",
    "print( f\"Nan value in the duration column for informal courses is, {df[df['content'].str.startswith('CS')]['duration'].isna().sum()}\" )\n",
    "print( f\"No of informal couses with zero value are, {df[df['content'].str.startswith('CS')]['duration'].value_counts()[0]}\")"
   ]
  },
  {
   "cell_type": "markdown",
   "id": "6e3c8461",
   "metadata": {},
   "source": [
    "Now we will create features that may be useful for recommender system.  \n",
    "1) Time difference between released and viewed,     \n",
    "> As this is learning platform, Technology is changing really fast so usually people prefer to see the latest content, which is upgraded. So we will create feature with the difference in time of release and viewed time. There is possibility that user is watching some latest content.    \n",
    "\n",
    "2) Duration,    \n",
    ">Duration is important parameter as per research top 250 moviews on netfix with duration greated that 45 min, But in our \n",
    "    data we see that most of the courses with zero value and nan values. I don't want to loose information from this column.\n",
    "    It is most likely to user prefer some time length of courses, So my approach is to take avg duration for user anf fill those\n",
    "    values corresponding to user.  \n",
    "    But for now i will fill nan value to zero\n",
    "    \n",
    "3) IsPrivate,  \n",
    "> We will keep this column as it is, as we have deleted nan value fom that  "
   ]
  },
  {
   "cell_type": "code",
   "execution_count": 12,
   "id": "43105851",
   "metadata": {},
   "outputs": [],
   "source": [
    "### 1) Time difference between released and viewed\n",
    "\n",
    "# We have 816 nan value in viewed so that , We will replace nan value, assuming user watched course on the same day."
   ]
  },
  {
   "cell_type": "code",
   "execution_count": 13,
   "id": "cc8aad1c",
   "metadata": {},
   "outputs": [],
   "source": [
    "df['viewed'].fillna(df['content_created'], inplace=True)"
   ]
  },
  {
   "cell_type": "code",
   "execution_count": 14,
   "id": "20f76389",
   "metadata": {},
   "outputs": [],
   "source": [
    "df['Time difference between released and viewed'] = (pd.to_datetime(df['viewed'])- pd.to_datetime(df['content_created'])).dt.days"
   ]
  },
  {
   "cell_type": "code",
   "execution_count": 15,
   "id": "8772a472",
   "metadata": {},
   "outputs": [],
   "source": [
    "### 2) Duration, For now we will update with 0\n",
    "df.fillna(value = {'duration':0}, inplace=True)"
   ]
  },
  {
   "cell_type": "code",
   "execution_count": 16,
   "id": "bb9d36a8",
   "metadata": {},
   "outputs": [
    {
     "data": {
      "text/plain": [
       "content                                        0\n",
       "content_created                                0\n",
       "is_private                                     0\n",
       "duration                                       0\n",
       "idUser                                         0\n",
       "viewed                                         0\n",
       "Time difference between released and viewed    0\n",
       "dtype: int64"
      ]
     },
     "execution_count": 16,
     "metadata": {},
     "output_type": "execute_result"
    }
   ],
   "source": [
    "df.isna().sum()"
   ]
  },
  {
   "cell_type": "code",
   "execution_count": 17,
   "id": "485233f0",
   "metadata": {},
   "outputs": [
    {
     "data": {
      "text/html": [
       "<div>\n",
       "<style scoped>\n",
       "    .dataframe tbody tr th:only-of-type {\n",
       "        vertical-align: middle;\n",
       "    }\n",
       "\n",
       "    .dataframe tbody tr th {\n",
       "        vertical-align: top;\n",
       "    }\n",
       "\n",
       "    .dataframe thead th {\n",
       "        text-align: right;\n",
       "    }\n",
       "</style>\n",
       "<table border=\"1\" class=\"dataframe\">\n",
       "  <thead>\n",
       "    <tr style=\"text-align: right;\">\n",
       "      <th></th>\n",
       "      <th>idUser</th>\n",
       "      <th>content</th>\n",
       "      <th>avg_value</th>\n",
       "      <th>duration</th>\n",
       "    </tr>\n",
       "  </thead>\n",
       "  <tbody>\n",
       "    <tr>\n",
       "      <th>0</th>\n",
       "      <td>12361</td>\n",
       "      <td>1</td>\n",
       "      <td>184.0</td>\n",
       "      <td>0.0</td>\n",
       "    </tr>\n",
       "    <tr>\n",
       "      <th>1</th>\n",
       "      <td>12361</td>\n",
       "      <td>CS_724</td>\n",
       "      <td>20.0</td>\n",
       "      <td>0.0</td>\n",
       "    </tr>\n",
       "    <tr>\n",
       "      <th>2</th>\n",
       "      <td>12361</td>\n",
       "      <td>CS_803</td>\n",
       "      <td>0.0</td>\n",
       "      <td>0.0</td>\n",
       "    </tr>\n",
       "    <tr>\n",
       "      <th>3</th>\n",
       "      <td>12361</td>\n",
       "      <td>CS_98</td>\n",
       "      <td>0.0</td>\n",
       "      <td>0.0</td>\n",
       "    </tr>\n",
       "    <tr>\n",
       "      <th>4</th>\n",
       "      <td>12362</td>\n",
       "      <td>1</td>\n",
       "      <td>71.0</td>\n",
       "      <td>0.0</td>\n",
       "    </tr>\n",
       "    <tr>\n",
       "      <th>...</th>\n",
       "      <td>...</td>\n",
       "      <td>...</td>\n",
       "      <td>...</td>\n",
       "      <td>...</td>\n",
       "    </tr>\n",
       "    <tr>\n",
       "      <th>5533</th>\n",
       "      <td>13977</td>\n",
       "      <td>87</td>\n",
       "      <td>585.0</td>\n",
       "      <td>0.0</td>\n",
       "    </tr>\n",
       "    <tr>\n",
       "      <th>5534</th>\n",
       "      <td>13977</td>\n",
       "      <td>88</td>\n",
       "      <td>585.0</td>\n",
       "      <td>0.0</td>\n",
       "    </tr>\n",
       "    <tr>\n",
       "      <th>5535</th>\n",
       "      <td>13977</td>\n",
       "      <td>89</td>\n",
       "      <td>586.0</td>\n",
       "      <td>0.0</td>\n",
       "    </tr>\n",
       "    <tr>\n",
       "      <th>5536</th>\n",
       "      <td>13977</td>\n",
       "      <td>90</td>\n",
       "      <td>586.0</td>\n",
       "      <td>0.0</td>\n",
       "    </tr>\n",
       "    <tr>\n",
       "      <th>5537</th>\n",
       "      <td>13977</td>\n",
       "      <td>CS_1419</td>\n",
       "      <td>0.5</td>\n",
       "      <td>0.0</td>\n",
       "    </tr>\n",
       "  </tbody>\n",
       "</table>\n",
       "<p>5538 rows × 4 columns</p>\n",
       "</div>"
      ],
      "text/plain": [
       "      idUser  content  avg_value  duration\n",
       "0      12361        1      184.0       0.0\n",
       "1      12361   CS_724       20.0       0.0\n",
       "2      12361   CS_803        0.0       0.0\n",
       "3      12361    CS_98        0.0       0.0\n",
       "4      12362        1       71.0       0.0\n",
       "...      ...      ...        ...       ...\n",
       "5533   13977       87      585.0       0.0\n",
       "5534   13977       88      585.0       0.0\n",
       "5535   13977       89      586.0       0.0\n",
       "5536   13977       90      586.0       0.0\n",
       "5537   13977  CS_1419        0.5       0.0\n",
       "\n",
       "[5538 rows x 4 columns]"
      ]
     },
     "execution_count": 17,
     "metadata": {},
     "output_type": "execute_result"
    }
   ],
   "source": [
    "# Okay so Let's check duplicate entry in the dataset- \n",
    "# e found duplicated entry So let's try to transform this df and try to see the data.\n",
    "z = df[df.duplicated([\"content\",\"content_created\", \"idUser\"])]\n",
    "\n",
    "# z[(z['content']=='CS_1302') &(z['idUser']==13096)]\n",
    "\n",
    "z.groupby(['idUser', 'content']).agg(avg_value = ('Time difference between released and viewed','mean'),\n",
    "                                    duration = ('duration', 'sum')).reset_index()"
   ]
  },
  {
   "cell_type": "code",
   "execution_count": 69,
   "id": "2ff05a6c",
   "metadata": {},
   "outputs": [
    {
     "data": {
      "image/png": "[encoded data removed]",
      "text/plain": [
       "<Figure size 1080x504 with 1 Axes>"
      ]
     },
     "metadata": {
      "needs_background": "light"
     },
     "output_type": "display_data"
    }
   ],
   "source": [
    "# Let's see how many times content was viewed for particular content,( As i have tried to plot this with plotly This diagram\n",
    "# will not visible, for that i have attached two images )\n",
    "temp_df = df.groupby((['content']))['viewed'].count().sort_values(ascending=False).head(10).to_frame().reset_index()\n",
    "plt.figure(figsize = (15, 7))\n",
    "plt.bar(x=temp_df['content'], height=temp_df['viewed'],  )\n",
    "plt.xlabel('content')\n",
    "plt.ylabel('viewed')\n",
    "plt.show()\n"
   ]
  },
  {
   "cell_type": "code",
   "execution_count": 68,
   "id": "07fcee79",
   "metadata": {},
   "outputs": [
    {
     "data": {
      "image/png": "[encoded data removed]",
      "text/plain": [
       "<Figure size 1080x504 with 1 Axes>"
      ]
     },
     "metadata": {
      "needs_background": "light"
     },
     "output_type": "display_data"
    }
   ],
   "source": [
    "# Let's see how many times user viewed content\n",
    "temp_df = df.groupby((['idUser']))['content'].count().sort_values(ascending=False).head(10).to_frame().reset_index()\n",
    "temp_df['idUser'] = temp_df['idUser'].astype('str')\n",
    "plt.figure(figsize = (15, 7))\n",
    "plt.bar(x=temp_df['idUser'], height=temp_df['content'],  )\n",
    "plt.xlabel('idUser')\n",
    "plt.ylabel('content count')\n",
    "plt.show()"
   ]
  },
  {
   "cell_type": "code",
   "execution_count": 20,
   "id": "e23df6be",
   "metadata": {},
   "outputs": [],
   "source": [
    "# Let's create machine learning df\n",
    "ml_df = df.groupby((['idUser', 'content'])).agg(avg_value = ('Time difference between released and viewed','mean'),\n",
    "                                    duration = ('duration', 'sum'), count = ('is_private', 'count')).reset_index()"
   ]
  },
  {
   "cell_type": "code",
   "execution_count": 21,
   "id": "18c79ce7",
   "metadata": {},
   "outputs": [
    {
     "data": {
      "text/html": [
       "<div>\n",
       "<style scoped>\n",
       "    .dataframe tbody tr th:only-of-type {\n",
       "        vertical-align: middle;\n",
       "    }\n",
       "\n",
       "    .dataframe tbody tr th {\n",
       "        vertical-align: top;\n",
       "    }\n",
       "\n",
       "    .dataframe thead th {\n",
       "        text-align: right;\n",
       "    }\n",
       "</style>\n",
       "<table border=\"1\" class=\"dataframe\">\n",
       "  <thead>\n",
       "    <tr style=\"text-align: right;\">\n",
       "      <th></th>\n",
       "      <th>idUser</th>\n",
       "      <th>content</th>\n",
       "      <th>avg_value</th>\n",
       "      <th>duration</th>\n",
       "      <th>count</th>\n",
       "    </tr>\n",
       "  </thead>\n",
       "  <tbody>\n",
       "    <tr>\n",
       "      <th>0</th>\n",
       "      <td>12361</td>\n",
       "      <td>1</td>\n",
       "      <td>184.166667</td>\n",
       "      <td>0.0</td>\n",
       "      <td>6</td>\n",
       "    </tr>\n",
       "    <tr>\n",
       "      <th>1</th>\n",
       "      <td>12361</td>\n",
       "      <td>43</td>\n",
       "      <td>0.000000</td>\n",
       "      <td>0.0</td>\n",
       "      <td>1</td>\n",
       "    </tr>\n",
       "    <tr>\n",
       "      <th>2</th>\n",
       "      <td>12361</td>\n",
       "      <td>45</td>\n",
       "      <td>0.000000</td>\n",
       "      <td>0.0</td>\n",
       "      <td>1</td>\n",
       "    </tr>\n",
       "    <tr>\n",
       "      <th>3</th>\n",
       "      <td>12361</td>\n",
       "      <td>56</td>\n",
       "      <td>146.000000</td>\n",
       "      <td>0.0</td>\n",
       "      <td>1</td>\n",
       "    </tr>\n",
       "    <tr>\n",
       "      <th>4</th>\n",
       "      <td>12361</td>\n",
       "      <td>57</td>\n",
       "      <td>0.000000</td>\n",
       "      <td>0.0</td>\n",
       "      <td>2</td>\n",
       "    </tr>\n",
       "    <tr>\n",
       "      <th>...</th>\n",
       "      <td>...</td>\n",
       "      <td>...</td>\n",
       "      <td>...</td>\n",
       "      <td>...</td>\n",
       "      <td>...</td>\n",
       "    </tr>\n",
       "    <tr>\n",
       "      <th>13760</th>\n",
       "      <td>13977</td>\n",
       "      <td>88</td>\n",
       "      <td>585.000000</td>\n",
       "      <td>0.0</td>\n",
       "      <td>8</td>\n",
       "    </tr>\n",
       "    <tr>\n",
       "      <th>13761</th>\n",
       "      <td>13977</td>\n",
       "      <td>89</td>\n",
       "      <td>586.000000</td>\n",
       "      <td>0.0</td>\n",
       "      <td>8</td>\n",
       "    </tr>\n",
       "    <tr>\n",
       "      <th>13762</th>\n",
       "      <td>13977</td>\n",
       "      <td>90</td>\n",
       "      <td>586.000000</td>\n",
       "      <td>0.0</td>\n",
       "      <td>4</td>\n",
       "    </tr>\n",
       "    <tr>\n",
       "      <th>13763</th>\n",
       "      <td>13977</td>\n",
       "      <td>91</td>\n",
       "      <td>586.000000</td>\n",
       "      <td>0.0</td>\n",
       "      <td>1</td>\n",
       "    </tr>\n",
       "    <tr>\n",
       "      <th>13764</th>\n",
       "      <td>13977</td>\n",
       "      <td>CS_1419</td>\n",
       "      <td>0.333333</td>\n",
       "      <td>0.0</td>\n",
       "      <td>3</td>\n",
       "    </tr>\n",
       "  </tbody>\n",
       "</table>\n",
       "<p>13765 rows × 5 columns</p>\n",
       "</div>"
      ],
      "text/plain": [
       "       idUser  content   avg_value  duration  count\n",
       "0       12361        1  184.166667       0.0      6\n",
       "1       12361       43    0.000000       0.0      1\n",
       "2       12361       45    0.000000       0.0      1\n",
       "3       12361       56  146.000000       0.0      1\n",
       "4       12361       57    0.000000       0.0      2\n",
       "...       ...      ...         ...       ...    ...\n",
       "13760   13977       88  585.000000       0.0      8\n",
       "13761   13977       89  586.000000       0.0      8\n",
       "13762   13977       90  586.000000       0.0      4\n",
       "13763   13977       91  586.000000       0.0      1\n",
       "13764   13977  CS_1419    0.333333       0.0      3\n",
       "\n",
       "[13765 rows x 5 columns]"
      ]
     },
     "execution_count": 21,
     "metadata": {},
     "output_type": "execute_result"
    }
   ],
   "source": [
    "# I am assuming these as my features, where,\n",
    "#  avg_value :- denote mean of time difference between release and viewed\n",
    "#  duration  :- denote sum of duration for that content by that user\n",
    "#  count     :- How many time user watched particular content/\n",
    "ml_df"
   ]
  },
  {
   "cell_type": "code",
   "execution_count": 22,
   "id": "cea27156",
   "metadata": {},
   "outputs": [],
   "source": [
    "# from sklearn.model_selection import train_test_split\n",
    "# train_df, test_df = train_test_split(ml_df, test_size=0.25)"
   ]
  },
  {
   "cell_type": "markdown",
   "id": "a1f7191b",
   "metadata": {},
   "source": [
    "### c) Approch we can use to solve recommendation system   \n",
    "<a id=\"Section_1_3\"></a>"
   ]
  },
  {
   "cell_type": "markdown",
   "id": "22e5b4e5",
   "metadata": {},
   "source": [
    "Possible approaches we can use to solve the recommendation system we want to make. \n",
    "1) Content filtering:-  \n",
    " Content filtering is technique where we solve the recommendation system problem using features available for the data,  \n",
    "     like in our data there are some features like duration , isprivate, time of released and , viewed time. This method is      useful when we have quality features available. This type of recommendation system work well when any new user come to website.    \n",
    "     \n",
    ">    Pros: - i) As we know about some features about the user like geolocation, trending content and we can recommend at cold start.  \n",
    "ii) We don't need any features from other user.  \n",
    "iii) Able to recommend unpopular and old items.  \n",
    "iv) With this we can know why we have recommended particular item. \n",
    "\n",
    "\n",
    ">    Cons:- i) We always want some features of content. It's really hard to get feature of each content.   \n",
    "ii) It will never recommend item outside of interest of user, It will just stick to user interest.  \n",
    " \n",
    "2) Collaborative filtering:-  \n",
    "\n",
    "Now in this collaborative filtering we don't want any features to be selected, So i decided to work with this technique.  \n",
    "There was some features with which i can work but those were nan values more than 50% in duration column and other features were not giving much information about content. So idecided to extract count of particular user watching particular content and then I treated as 1-15 rating. Also i mentioned in the code reason behind of this descision.  \n",
    "\n",
    ">  Pros: - i) It will work with various variety of problem, It recommend outside of user interest content too.  \n",
    "\n",
    "\n",
    "> cons:-  i) We are getting sparse matrix which , In our problem we have really small matrix, But in really world problem it can create some computational issue.  \n",
    "ii) It need to deal with cold start problem that's why some of companies like netflix, amazon ask some initial data about our interest.  \n"
   ]
  },
  {
   "cell_type": "markdown",
   "id": "0853414e",
   "metadata": {},
   "source": [
    "## Q2.  Make a decision on one of the aforementioned approaches and motivate that decision.  \n",
    "<a id=\"Section_2\"></a>\n",
    "As mentioned above, I don't see useful feature in the dataset required for this problem. Also considering the prons and cons I selected this type of recommendation.  "
   ]
  },
  {
   "cell_type": "markdown",
   "id": "c58aec4a",
   "metadata": {},
   "source": [
    "## Q3. Recommendation System  \n",
    "<a id=\"Section_3\"></a>"
   ]
  },
  {
   "cell_type": "markdown",
   "id": "0c9778fb",
   "metadata": {},
   "source": [
    "### a) Preprocessing of Data.  \n",
    "<a id=\"Section_3_1\"></a>"
   ]
  },
  {
   "cell_type": "code",
   "execution_count": 23,
   "id": "88ac4144",
   "metadata": {},
   "outputs": [],
   "source": [
    "# We will create dataframe with user as columns and content as a index\n",
    "create_df = pd.DataFrame(index = df['content'].unique(), columns = df['idUser'].unique())"
   ]
  },
  {
   "cell_type": "code",
   "execution_count": 24,
   "id": "6a1fe8f1",
   "metadata": {},
   "outputs": [
    {
     "data": {
      "text/plain": [
       "{1: 6038,\n",
       " 2: 2504,\n",
       " 3: 1722,\n",
       " 4: 749,\n",
       " 8: 618,\n",
       " 7: 528,\n",
       " 5: 437,\n",
       " 6: 322,\n",
       " 9: 144,\n",
       " 10: 103,\n",
       " 11: 72,\n",
       " 12: 63,\n",
       " 13: 55,\n",
       " 15: 49,\n",
       " 14: 45}"
      ]
     },
     "execution_count": 24,
     "metadata": {},
     "output_type": "execute_result"
    }
   ],
   "source": [
    "# Here i want to check , How many times particular ount was seen,\n",
    "# So from the result of this cell, Keys of this dictionary represent how many times user cviewed the content, and values  \n",
    "# represent the count of that.\n",
    "count_columns_with_corresponding_count_value = dict(ml_df['count'].value_counts().sort_values(ascending=False).head(15))\n",
    "count_columns_with_corresponding_count_value"
   ]
  },
  {
   "cell_type": "code",
   "execution_count": 25,
   "id": "016dd80a",
   "metadata": {},
   "outputs": [
    {
     "name": "stdout",
     "output_type": "stream",
     "text": [
      "Max value in count columns 928\n",
      "Max value in count columns 1\n"
     ]
    }
   ],
   "source": [
    "# In above df we have count column, which we will scale from 1-15.\n",
    "# I will do if user watched more than 15 times then i will give value 15 else we will scale that between 0-5\n",
    "print(f'Max value in count columns {ml_df[\"count\"].max()}')\n",
    "print(f'Max value in count columns {ml_df[\"count\"].min()}')"
   ]
  },
  {
   "cell_type": "code",
   "execution_count": 26,
   "id": "549ab951",
   "metadata": {},
   "outputs": [],
   "source": [
    "def change_scale(x, count_columns_with_corresponding_count_value):\n",
    "    if x in count_columns_with_corresponding_count_value:\n",
    "        return x\n",
    "    else:\n",
    "        return 15\n",
    "        \n",
    "\n",
    "ml_df['count'] = ml_df['count'].apply(lambda x: change_scale(x, count_columns_with_corresponding_count_value.keys()))\n",
    "\n",
    "\n",
    "# test_df['count'] = test_df['count'].apply(lambda x: change_scale(x, count_columns_with_corresponding_count_value.keys()))"
   ]
  },
  {
   "cell_type": "code",
   "execution_count": 27,
   "id": "9ae0f679",
   "metadata": {},
   "outputs": [
    {
     "name": "stdout",
     "output_type": "stream",
     "text": [
      "Max value in count columns 15\n",
      "Max value in count columns 1\n"
     ]
    }
   ],
   "source": [
    "# Let's check the max and min value, Perfect we are ready to create df\n",
    "print(f'Max value in count columns {ml_df[\"count\"].max()}')\n",
    "print(f'Max value in count columns {ml_df[\"count\"].min()}')"
   ]
  },
  {
   "cell_type": "code",
   "execution_count": 28,
   "id": "020df806",
   "metadata": {},
   "outputs": [
    {
     "name": "stderr",
     "output_type": "stream",
     "text": [
      "100%|██████████████████████████████████████████████████████████████████████████| 13765/13765 [00:03<00:00, 3475.58it/s]\n"
     ]
    }
   ],
   "source": [
    "for i in tqdm(ml_df.to_numpy()):\n",
    "    create_df.loc[i[1],i[0]] = i[4]\n",
    "    \n",
    "# for i in tqdm(test_df.to_numpy()):\n",
    "#     create_df_test.loc[i[1],i[0]] = i[4]\n",
    "    "
   ]
  },
  {
   "cell_type": "code",
   "execution_count": 29,
   "id": "1e1cc9b0",
   "metadata": {},
   "outputs": [
    {
     "data": {
      "text/html": [
       "<div>\n",
       "<style scoped>\n",
       "    .dataframe tbody tr th:only-of-type {\n",
       "        vertical-align: middle;\n",
       "    }\n",
       "\n",
       "    .dataframe tbody tr th {\n",
       "        vertical-align: top;\n",
       "    }\n",
       "\n",
       "    .dataframe thead th {\n",
       "        text-align: right;\n",
       "    }\n",
       "</style>\n",
       "<table border=\"1\" class=\"dataframe\">\n",
       "  <thead>\n",
       "    <tr style=\"text-align: right;\">\n",
       "      <th></th>\n",
       "      <th>13580</th>\n",
       "      <th>13929</th>\n",
       "      <th>13903</th>\n",
       "      <th>13912</th>\n",
       "      <th>13830</th>\n",
       "      <th>12368</th>\n",
       "      <th>13454</th>\n",
       "      <th>13735</th>\n",
       "      <th>13774</th>\n",
       "      <th>13862</th>\n",
       "      <th>...</th>\n",
       "      <th>13820</th>\n",
       "      <th>13930</th>\n",
       "      <th>13566</th>\n",
       "      <th>13924</th>\n",
       "      <th>13899</th>\n",
       "      <th>12366</th>\n",
       "      <th>13725</th>\n",
       "      <th>13856</th>\n",
       "      <th>13751</th>\n",
       "      <th>13678</th>\n",
       "    </tr>\n",
       "  </thead>\n",
       "  <tbody>\n",
       "    <tr>\n",
       "      <th>29</th>\n",
       "      <td>2</td>\n",
       "      <td>NaN</td>\n",
       "      <td>NaN</td>\n",
       "      <td>NaN</td>\n",
       "      <td>NaN</td>\n",
       "      <td>NaN</td>\n",
       "      <td>2</td>\n",
       "      <td>NaN</td>\n",
       "      <td>NaN</td>\n",
       "      <td>NaN</td>\n",
       "      <td>...</td>\n",
       "      <td>NaN</td>\n",
       "      <td>NaN</td>\n",
       "      <td>NaN</td>\n",
       "      <td>NaN</td>\n",
       "      <td>NaN</td>\n",
       "      <td>NaN</td>\n",
       "      <td>NaN</td>\n",
       "      <td>NaN</td>\n",
       "      <td>NaN</td>\n",
       "      <td>NaN</td>\n",
       "    </tr>\n",
       "    <tr>\n",
       "      <th>CS_1320</th>\n",
       "      <td>1</td>\n",
       "      <td>10</td>\n",
       "      <td>15</td>\n",
       "      <td>1</td>\n",
       "      <td>1</td>\n",
       "      <td>NaN</td>\n",
       "      <td>NaN</td>\n",
       "      <td>NaN</td>\n",
       "      <td>NaN</td>\n",
       "      <td>NaN</td>\n",
       "      <td>...</td>\n",
       "      <td>NaN</td>\n",
       "      <td>2</td>\n",
       "      <td>NaN</td>\n",
       "      <td>NaN</td>\n",
       "      <td>NaN</td>\n",
       "      <td>NaN</td>\n",
       "      <td>NaN</td>\n",
       "      <td>NaN</td>\n",
       "      <td>NaN</td>\n",
       "      <td>NaN</td>\n",
       "    </tr>\n",
       "    <tr>\n",
       "      <th>CS_1285</th>\n",
       "      <td>NaN</td>\n",
       "      <td>NaN</td>\n",
       "      <td>1</td>\n",
       "      <td>NaN</td>\n",
       "      <td>NaN</td>\n",
       "      <td>NaN</td>\n",
       "      <td>NaN</td>\n",
       "      <td>NaN</td>\n",
       "      <td>NaN</td>\n",
       "      <td>NaN</td>\n",
       "      <td>...</td>\n",
       "      <td>NaN</td>\n",
       "      <td>NaN</td>\n",
       "      <td>NaN</td>\n",
       "      <td>NaN</td>\n",
       "      <td>NaN</td>\n",
       "      <td>NaN</td>\n",
       "      <td>NaN</td>\n",
       "      <td>NaN</td>\n",
       "      <td>NaN</td>\n",
       "      <td>NaN</td>\n",
       "    </tr>\n",
       "    <tr>\n",
       "      <th>CS_1395</th>\n",
       "      <td>3</td>\n",
       "      <td>7</td>\n",
       "      <td>5</td>\n",
       "      <td>1</td>\n",
       "      <td>NaN</td>\n",
       "      <td>9</td>\n",
       "      <td>NaN</td>\n",
       "      <td>3</td>\n",
       "      <td>NaN</td>\n",
       "      <td>1</td>\n",
       "      <td>...</td>\n",
       "      <td>NaN</td>\n",
       "      <td>1</td>\n",
       "      <td>NaN</td>\n",
       "      <td>1</td>\n",
       "      <td>1</td>\n",
       "      <td>NaN</td>\n",
       "      <td>NaN</td>\n",
       "      <td>NaN</td>\n",
       "      <td>NaN</td>\n",
       "      <td>NaN</td>\n",
       "    </tr>\n",
       "    <tr>\n",
       "      <th>99</th>\n",
       "      <td>NaN</td>\n",
       "      <td>3</td>\n",
       "      <td>3</td>\n",
       "      <td>NaN</td>\n",
       "      <td>3</td>\n",
       "      <td>NaN</td>\n",
       "      <td>NaN</td>\n",
       "      <td>3</td>\n",
       "      <td>3</td>\n",
       "      <td>3</td>\n",
       "      <td>...</td>\n",
       "      <td>NaN</td>\n",
       "      <td>NaN</td>\n",
       "      <td>NaN</td>\n",
       "      <td>NaN</td>\n",
       "      <td>NaN</td>\n",
       "      <td>NaN</td>\n",
       "      <td>NaN</td>\n",
       "      <td>NaN</td>\n",
       "      <td>NaN</td>\n",
       "      <td>NaN</td>\n",
       "    </tr>\n",
       "  </tbody>\n",
       "</table>\n",
       "<p>5 rows × 267 columns</p>\n",
       "</div>"
      ],
      "text/plain": [
       "        13580 13929 13903 13912 13830 12368 13454 13735 13774 13862  ...  \\\n",
       "29          2   NaN   NaN   NaN   NaN   NaN     2   NaN   NaN   NaN  ...   \n",
       "CS_1320     1    10    15     1     1   NaN   NaN   NaN   NaN   NaN  ...   \n",
       "CS_1285   NaN   NaN     1   NaN   NaN   NaN   NaN   NaN   NaN   NaN  ...   \n",
       "CS_1395     3     7     5     1   NaN     9   NaN     3   NaN     1  ...   \n",
       "99        NaN     3     3   NaN     3   NaN   NaN     3     3     3  ...   \n",
       "\n",
       "        13820 13930 13566 13924 13899 12366 13725 13856 13751 13678  \n",
       "29        NaN   NaN   NaN   NaN   NaN   NaN   NaN   NaN   NaN   NaN  \n",
       "CS_1320   NaN     2   NaN   NaN   NaN   NaN   NaN   NaN   NaN   NaN  \n",
       "CS_1285   NaN   NaN   NaN   NaN   NaN   NaN   NaN   NaN   NaN   NaN  \n",
       "CS_1395   NaN     1   NaN     1     1   NaN   NaN   NaN   NaN   NaN  \n",
       "99        NaN   NaN   NaN   NaN   NaN   NaN   NaN   NaN   NaN   NaN  \n",
       "\n",
       "[5 rows x 267 columns]"
      ]
     },
     "execution_count": 29,
     "metadata": {},
     "output_type": "execute_result"
    }
   ],
   "source": [
    "# We have filled the create_df with count column to particular cell position\n",
    "create_df.head()"
   ]
  },
  {
   "cell_type": "markdown",
   "id": "26383ec7",
   "metadata": {},
   "source": [
    "### b) Creating test data  \n",
    "<a id=\"Section_3_8\"></a>"
   ]
  },
  {
   "cell_type": "code",
   "execution_count": 30,
   "id": "540bf2ad",
   "metadata": {},
   "outputs": [],
   "source": [
    "# Getting random co-ordinate from create_df where values are not null\n",
    "test_row_column = np.argwhere(create_df.notnull().values).tolist()  "
   ]
  },
  {
   "cell_type": "code",
   "execution_count": 31,
   "id": "fdaf8584",
   "metadata": {},
   "outputs": [],
   "source": [
    "# We are considering 3000 cell as a test data\n",
    "random_index = random.sample(list(test_row_column), 3000, )"
   ]
  },
  {
   "cell_type": "code",
   "execution_count": 32,
   "id": "5fef4692",
   "metadata": {},
   "outputs": [],
   "source": [
    "# here we have replaced some value in create_df to nan , So that we can treat this as our test dataset and calculate loss\n",
    "value_at_those_random_index = []\n",
    "for i in random_index:\n",
    "    value_at_those_random_index.append(create_df.iloc[i[0],i[1] ])\n",
    "    create_df.iloc[i[0],i[1] ] = np.nan"
   ]
  },
  {
   "cell_type": "code",
   "execution_count": 33,
   "id": "13359e0d",
   "metadata": {},
   "outputs": [],
   "source": [
    "# We will create array where each cell will represent [x_co-rdinate, y_coordinate, value at that co ordinate] \n",
    "b = np.array(value_at_those_random_index).reshape(-1, 1)\n",
    "a = np.array(random_index)\n",
    "\n",
    "random_index_val = np.concatenate((a, b), axis=1)"
   ]
  },
  {
   "cell_type": "code",
   "execution_count": 34,
   "id": "6714141d",
   "metadata": {},
   "outputs": [
    {
     "data": {
      "text/plain": [
       "array([[368,  95,   2],\n",
       "       [ 16, 111,   2],\n",
       "       [232, 251,   1],\n",
       "       ...,\n",
       "       [295,  14,   3],\n",
       "       [278, 112,   2],\n",
       "       [149,  45,   3]])"
      ]
     },
     "execution_count": 34,
     "metadata": {},
     "output_type": "execute_result"
    }
   ],
   "source": [
    "random_index_val"
   ]
  },
  {
   "cell_type": "code",
   "execution_count": 35,
   "id": "af9c3b3f",
   "metadata": {},
   "outputs": [
    {
     "data": {
      "text/plain": [
       "10765"
      ]
     },
     "execution_count": 35,
     "metadata": {},
     "output_type": "execute_result"
    }
   ],
   "source": [
    "# Let's check if we replaced 3000 values to nan, Yesss , We have replaced that with nan.Great \n",
    "len(np.argwhere(create_df.notnull().values).tolist())"
   ]
  },
  {
   "cell_type": "markdown",
   "id": "c6cecb84",
   "metadata": {},
   "source": [
    "### c) We will apply collaborative filtering to our dataset. ( From Scratch)  \n",
    "<a id=\"Section_3_2\"></a>\n",
    "We are assignimg feature matrix to represent content and theta matrix to represent user.  \n",
    "Simple representation of what i am trying to do  \n",
    "\n",
    "$\\theta$ = Feature of each user having dimension equal to (no of user, features we defined)   \n",
    "x = Features of each content having dimension equal to (no of content, features we defined)  \n",
    "\n",
    "So we will use Gradient descent , derivative of loss with respect to $\\theta$ and $X$  \n",
    "\n",
    "Algorithm-   \n",
    "Step -1  -: Initializtion of $\\theta$, $X$, Leraning rate for both    \n",
    "Step -2  -: Gradient Descent on $\\theta$, $X$.  \n",
    "Step- 3 - : Repeat Step 1, 2 until convergence.  \n",
    "\n",
    "\n",
    "$\\theta_{i+1} = \\theta_{i} - \\alpha_{\\theta} * \\sum \\theta_{i}^{T}.X - y_{Actual}$  \n",
    "$X_{i+1} = X_{i} - \\alpha_{X} * \\sum \\theta^{T}.X_{i} - y_{Actual}$"
   ]
  },
  {
   "cell_type": "code",
   "execution_count": 36,
   "id": "2016935a",
   "metadata": {},
   "outputs": [],
   "source": [
    "# In this function i will using gradient descent to theta and by taking derivative of loss function w.r.t theta.\n",
    "\n",
    "def update_theta(dff, no_of_user, no_of_content, theta, x, lr_theta):\n",
    "#     l = []\n",
    "    for j in range(no_of_user):\n",
    "        temp_theta = []\n",
    "        for i in range(no_of_content):\n",
    "            temp_y = dff.iloc[i, j]\n",
    "\n",
    "            if not pd.isna(temp_y):\n",
    "                y_pred = theta[j].dot(x[i].T)\n",
    "                temp_theta.append(list((y_pred - temp_y)* x[i]))\n",
    "\n",
    "#                 l = l + np.square(theta[j].dot(x[i].T) - temp_y)\n",
    "            #         else:\n",
    "            #             print(f'skip {i}')\n",
    "        #         print(temp_theta)\n",
    "        theta[j] = theta[j] - lr_theta *np.sum(np.array(temp_theta), axis = 0)\n",
    "    return theta\n",
    "\n",
    "# In this function i will using gradient descent to x and by taking derivative of loss function w.r.t. x.\n",
    "def update_x(dff, no_of_user, no_of_content, theta, x, lr_x):\n",
    "    l=0\n",
    "    count = 0\n",
    "    for i in range(no_of_content):\n",
    "        temp_x = []\n",
    "        \n",
    "        for j in range(no_of_user):\n",
    "            temp_y = dff.iloc[i, j]\n",
    "\n",
    "            if not pd.isna(temp_y):\n",
    "                y_pred = theta[j].dot(x[i].T)\n",
    "#                 temp_x.append(list((theta[j].dot(x[i].T) - temp_y)* theta[j]))\n",
    "                temp_x.append(list((y_pred - temp_y)* theta[j]))\n",
    "                l = l + np.square(y_pred - temp_y)\n",
    "                count += 1\n",
    "\n",
    "        x[i] = x[i] - lr_x *np.sum(np.array(temp_x), axis = 0)\n",
    "        \n",
    "    return x, l/count"
   ]
  },
  {
   "cell_type": "code",
   "execution_count": 37,
   "id": "ef842a9c",
   "metadata": {},
   "outputs": [],
   "source": [
    "def calculate_loss(dff, co_ordinate_of_df, theta, x):\n",
    "    l=0\n",
    "    count = 0\n",
    "    for co_ordinate in co_ordinate_of_df:\n",
    "        temp_y = co_ordinate[2]\n",
    "        j = co_ordinate[1]\n",
    "        i = co_ordinate[0]\n",
    "#         if not pd.isna(temp_y):\n",
    "\n",
    "#             temp_x.append(list((theta[j].dot(x[i].T) - temp_y)* theta[j]))\n",
    "\n",
    "        l = l + np.square(theta[j].dot(x[i].T) - temp_y)\n",
    "        count +=1\n",
    "    return l/count"
   ]
  },
  {
   "cell_type": "code",
   "execution_count": 38,
   "id": "63a89ed3",
   "metadata": {},
   "outputs": [],
   "source": [
    "no_of_user = ml_df['idUser'].nunique()\n",
    "no_of_content = ml_df['content'].nunique()"
   ]
  },
  {
   "cell_type": "code",
   "execution_count": 39,
   "id": "5ebe2d5c",
   "metadata": {},
   "outputs": [],
   "source": [
    "# Initialization \n",
    "x = np.random.randn(no_of_content,4) *0.1\n",
    "theta = np.random.randn(no_of_user,4) *0.1\n",
    "lr_theta = 0.005\n",
    "lr_x = 0.005"
   ]
  },
  {
   "cell_type": "code",
   "execution_count": 40,
   "id": "30027160",
   "metadata": {},
   "outputs": [
    {
     "data": {
      "text/plain": [
       "((800, 4), (267, 4))"
      ]
     },
     "execution_count": 40,
     "metadata": {},
     "output_type": "execute_result"
    }
   ],
   "source": [
    "x.shape, theta.shape"
   ]
  },
  {
   "cell_type": "markdown",
   "id": "28db1646",
   "metadata": {},
   "source": [
    "### d) Training of Model    \n",
    "<a id=\"Section_3_3\"></a>"
   ]
  },
  {
   "cell_type": "code",
   "execution_count": 41,
   "id": "e0c4740d",
   "metadata": {},
   "outputs": [
    {
     "name": "stdout",
     "output_type": "stream",
     "text": [
      "Epoch 1 Train Loss 19.68637677598242 Test_loss 19.811558622621707\n",
      "Epoch 2 Train Loss 19.62552919501649 Test_loss 19.668493334674466\n",
      "Epoch 3 Train Loss 19.07594120930174 Test_loss 18.096465744301014\n",
      "Epoch 4 Train Loss 14.489325431205202 Test_loss 10.262539652217683\n",
      "Epoch 5 Train Loss 8.212788387322458 Test_loss 7.897649675621301\n",
      "Epoch 6 Train Loss 6.785904539375454 Test_loss 6.860960658271022\n",
      "Epoch 7 Train Loss 6.1455472714855 Test_loss 6.582500180318299\n",
      "Epoch 8 Train Loss 5.757233059048579 Test_loss 6.2193019473632045\n",
      "Epoch 9 Train Loss 5.52814030156232 Test_loss 6.2693218642900215\n",
      "Epoch 10 Train Loss 5.332277250111969 Test_loss 6.347721515404984\n"
     ]
    }
   ],
   "source": [
    "# I executed for 250 epochs and finally i got 33923 as squared loss, So mean squared loss will be 33923/13765 = 2.46\n",
    "\n",
    "\n",
    "train_loss = []\n",
    "test_loss = []\n",
    "for idx, _ in enumerate(range(10)):\n",
    "    theta = update_theta(create_df, no_of_user, no_of_content, theta, x, lr_theta)\n",
    "    x ,train_l= update_x(create_df, no_of_user, no_of_content, theta, x, lr_x)\n",
    "    test_l = calculate_loss(create_df, random_index_val, theta, x)\n",
    "    train_loss.append(train_l)\n",
    "    test_loss.append(test_l)\n",
    "    print(f'Epoch {idx+1} Train Loss {train_l} Test_loss {test_l}' )"
   ]
  },
  {
   "cell_type": "code",
   "execution_count": 42,
   "id": "d02b4e9a",
   "metadata": {},
   "outputs": [
    {
     "name": "stdout",
     "output_type": "stream",
     "text": [
      "Epoch 11 Train Loss 5.320418765177086 Test_loss 5.844639044861657\n",
      "Epoch 12 Train Loss 4.661926008637081 Test_loss 5.6079902163110384\n",
      "Epoch 13 Train Loss 4.3867009923097715 Test_loss 5.237115273492889\n",
      "Epoch 14 Train Loss 3.9746482108571755 Test_loss 5.167275949015301\n",
      "Epoch 15 Train Loss 3.8117198867156628 Test_loss 4.966272514682624\n",
      "Epoch 16 Train Loss 3.695408267491879 Test_loss 5.180005158029545\n",
      "Epoch 17 Train Loss 3.7652886791603115 Test_loss 5.066844026349338\n",
      "Epoch 18 Train Loss 3.98220312917747 Test_loss 5.847096444527009\n",
      "Epoch 19 Train Loss 4.241386532529276 Test_loss 5.652074055665967\n",
      "Epoch 20 Train Loss 4.605982702434515 Test_loss 7.137930500819194\n"
     ]
    }
   ],
   "source": [
    "for idx, _ in enumerate(range(10, 20)):\n",
    "    theta = update_theta(create_df, no_of_user, no_of_content, theta, x, lr_theta)\n",
    "    x ,train_l= update_x(create_df, no_of_user, no_of_content, theta, x, lr_x)\n",
    "    test_l = calculate_loss(create_df, random_index_val, theta, x)\n",
    "    train_loss.append(train_l)\n",
    "    test_loss.append(test_l)\n",
    "    print(f'Epoch {_+1} Train Loss {train_l} Test_loss {test_l}' )"
   ]
  },
  {
   "cell_type": "code",
   "execution_count": 43,
   "id": "a0728ddf",
   "metadata": {},
   "outputs": [
    {
     "name": "stdout",
     "output_type": "stream",
     "text": [
      "Epoch 21 Train Loss 4.788367984235519 Test_loss 5.984855539557291\n",
      "Epoch 22 Train Loss 4.591734264965904 Test_loss 7.052138383175382\n",
      "Epoch 23 Train Loss 4.41170236499495 Test_loss 5.75360756696072\n",
      "Epoch 24 Train Loss 4.157718674553831 Test_loss 6.569270502659562\n",
      "Epoch 25 Train Loss 4.043787329492829 Test_loss 5.59298602665967\n",
      "Epoch 26 Train Loss 3.9170454247856354 Test_loss 6.298636112487025\n",
      "Epoch 27 Train Loss 3.8882531338033095 Test_loss 5.558620824114446\n",
      "Epoch 28 Train Loss 3.8483622345174426 Test_loss 6.254065375835562\n",
      "Epoch 29 Train Loss 3.8448009723383985 Test_loss 5.619465626716445\n",
      "Epoch 30 Train Loss 3.868917792024242 Test_loss 6.309331553181791\n",
      "Epoch 31 Train Loss 3.87029405831152 Test_loss 5.715269721880161\n",
      "Epoch 32 Train Loss 3.9160145211481576 Test_loss 6.362723821543252\n",
      "Epoch 33 Train Loss 3.88929687586149 Test_loss 5.785944005479659\n",
      "Epoch 34 Train Loss 3.9270957436173823 Test_loss 6.377944379427288\n",
      "Epoch 35 Train Loss 3.8587954460567437 Test_loss 5.805154149275458\n",
      "Epoch 36 Train Loss 3.882847876815404 Test_loss 6.343088833062076\n",
      "Epoch 37 Train Loss 3.7832150356488716 Test_loss 5.773810405929566\n",
      "Epoch 38 Train Loss 3.7992813999311443 Test_loss 6.283167902210935\n",
      "Epoch 39 Train Loss 3.686524789547814 Test_loss 5.721395445427191\n",
      "Epoch 40 Train Loss 3.7044563701379136 Test_loss 6.2256180102768015\n"
     ]
    }
   ],
   "source": [
    "for idx, _ in enumerate(range(20, 40)):\n",
    "    theta = update_theta(create_df, no_of_user, no_of_content, theta, x, lr_theta)\n",
    "    x ,train_l= update_x(create_df, no_of_user, no_of_content, theta, x, lr_x)\n",
    "    test_l = calculate_loss(create_df, random_index_val, theta, x)\n",
    "    train_loss.append(train_l)\n",
    "    test_loss.append(test_l)\n",
    "    print(f'Epoch {_+1} Train Loss {train_l} Test_loss {test_l}' )"
   ]
  },
  {
   "cell_type": "code",
   "execution_count": 62,
   "id": "0c7a50fe",
   "metadata": {},
   "outputs": [
    {
     "data": {
      "image/png": "[encoded data removed]",
      "text/plain": [
       "<Figure size 1080x504 with 1 Axes>"
      ]
     },
     "metadata": {
      "needs_background": "light"
     },
     "output_type": "display_data"
    }
   ],
   "source": [
    "# So as we can see this figure, We can stop the training model at epoch 15 as there is no change in loss with number of epochs,\n",
    "# But for now I have trained this model until 40 epochs where training loss decreased compare at epoch 15, \n",
    "# but test loss is almost similar\n",
    "plt.figure(figsize = (15,7))\n",
    "plt.plot(train_loss, label='Test Loss')\n",
    "plt.plot(test_loss, label='Train Loss')\n",
    "plt.xlabel('Epoch')\n",
    "plt.ylabel('Mean Square loss')\n",
    "plt.title('Training and Test Loss ')\n",
    "plt.show()"
   ]
  },
  {
   "cell_type": "code",
   "execution_count": 44,
   "id": "208a4b59",
   "metadata": {},
   "outputs": [
    {
     "data": {
      "application/vnd.plotly.v1+json": {
       "config": {
        "plotlyServerURL": "https://plot.ly"
       },
       "data": [
        {
         "name": "Train loss",
         "type": "scatter",
         "x": [
          0,
          1,
          2,
          3,
          4,
          5,
          6,
          7,
          8,
          9,
          10,
          11,
          12,
          13,
          14,
          15,
          16,
          17,
          18,
          19,
          20,
          21,
          22,
          23,
          24,
          25,
          26,
          27,
          28,
          29,
          30,
          31,
          32,
          33,
          34,
          35,
          36,
          37,
          38,
          39
         ],
         "y": [
          19.68637677598242,
          19.62552919501649,
          19.07594120930174,
          14.489325431205202,
          8.212788387322458,
          6.785904539375454,
          6.1455472714855,
          5.757233059048579,
          5.52814030156232,
          5.332277250111969,
          5.320418765177086,
          4.661926008637081,
          4.3867009923097715,
          3.9746482108571755,
          3.8117198867156628,
          3.695408267491879,
          3.7652886791603115,
          3.98220312917747,
          4.241386532529276,
          4.605982702434515,
          4.788367984235519,
          4.591734264965904,
          4.41170236499495,
          4.157718674553831,
          4.043787329492829,
          3.9170454247856354,
          3.8882531338033095,
          3.8483622345174426,
          3.8448009723383985,
          3.868917792024242,
          3.87029405831152,
          3.9160145211481576,
          3.88929687586149,
          3.9270957436173823,
          3.8587954460567437,
          3.882847876815404,
          3.7832150356488716,
          3.7992813999311443,
          3.686524789547814,
          3.7044563701379136
         ]
        },
        {
         "name": "Test loss",
         "type": "scatter",
         "x": [
          0,
          1,
          2,
          3,
          4,
          5,
          6,
          7,
          8,
          9,
          10,
          11,
          12,
          13,
          14,
          15,
          16,
          17,
          18,
          19,
          20,
          21,
          22,
          23,
          24,
          25,
          26,
          27,
          28,
          29,
          30,
          31,
          32,
          33,
          34,
          35,
          36,
          37,
          38,
          39
         ],
         "y": [
          19.811558622621707,
          19.668493334674466,
          18.096465744301014,
          10.262539652217683,
          7.897649675621301,
          6.860960658271022,
          6.582500180318299,
          6.2193019473632045,
          6.2693218642900215,
          6.347721515404984,
          5.844639044861657,
          5.6079902163110384,
          5.237115273492889,
          5.167275949015301,
          4.966272514682624,
          5.180005158029545,
          5.066844026349338,
          5.847096444527009,
          5.652074055665967,
          7.137930500819194,
          5.984855539557291,
          7.052138383175382,
          5.75360756696072,
          6.569270502659562,
          5.59298602665967,
          6.298636112487025,
          5.558620824114446,
          6.254065375835562,
          5.619465626716445,
          6.309331553181791,
          5.715269721880161,
          6.362723821543252,
          5.785944005479659,
          6.377944379427288,
          5.805154149275458,
          6.343088833062076,
          5.773810405929566,
          6.283167902210935,
          5.721395445427191,
          6.2256180102768015
         ]
        }
       ],
       "layout": {
        "template": {
         "data": {
          "bar": [
           {
            "error_x": {
             "color": "#2a3f5f"
            },
            "error_y": {
             "color": "#2a3f5f"
            },
            "marker": {
             "line": {
              "color": "#E5ECF6",
              "width": 0.5
             },
             "pattern": {
              "fillmode": "overlay",
              "size": 10,
              "solidity": 0.2
             }
            },
            "type": "bar"
           }
          ],
          "barpolar": [
           {
            "marker": {
             "line": {
              "color": "#E5ECF6",
              "width": 0.5
             },
             "pattern": {
              "fillmode": "overlay",
              "size": 10,
              "solidity": 0.2
             }
            },
            "type": "barpolar"
           }
          ],
          "carpet": [
           {
            "aaxis": {
             "endlinecolor": "#2a3f5f",
             "gridcolor": "white",
             "linecolor": "white",
             "minorgridcolor": "white",
             "startlinecolor": "#2a3f5f"
            },
            "baxis": {
             "endlinecolor": "#2a3f5f",
             "gridcolor": "white",
             "linecolor": "white",
             "minorgridcolor": "white",
             "startlinecolor": "#2a3f5f"
            },
            "type": "carpet"
           }
          ],
          "choropleth": [
           {
            "colorbar": {
             "outlinewidth": 0,
             "ticks": ""
            },
            "type": "choropleth"
           }
          ],
          "contour": [
           {
            "colorbar": {
             "outlinewidth": 0,
             "ticks": ""
            },
            "colorscale": [
             [
              0,
              "#0d0887"
             ],
             [
              0.1111111111111111,
              "#46039f"
             ],
             [
              0.2222222222222222,
              "#7201a8"
             ],
             [
              0.3333333333333333,
              "#9c179e"
             ],
             [
              0.4444444444444444,
              "#bd3786"
             ],
             [
              0.5555555555555556,
              "#d8576b"
             ],
             [
              0.6666666666666666,
              "#ed7953"
             ],
             [
              0.7777777777777778,
              "#fb9f3a"
             ],
             [
              0.8888888888888888,
              "#fdca26"
             ],
             [
              1,
              "#f0f921"
             ]
            ],
            "type": "contour"
           }
          ],
          "contourcarpet": [
           {
            "colorbar": {
             "outlinewidth": 0,
             "ticks": ""
            },
            "type": "contourcarpet"
           }
          ],
          "heatmap": [
           {
            "colorbar": {
             "outlinewidth": 0,
             "ticks": ""
            },
            "colorscale": [
             [
              0,
              "#0d0887"
             ],
             [
              0.1111111111111111,
              "#46039f"
             ],
             [
              0.2222222222222222,
              "#7201a8"
             ],
             [
              0.3333333333333333,
              "#9c179e"
             ],
             [
              0.4444444444444444,
              "#bd3786"
             ],
             [
              0.5555555555555556,
              "#d8576b"
             ],
             [
              0.6666666666666666,
              "#ed7953"
             ],
             [
              0.7777777777777778,
              "#fb9f3a"
             ],
             [
              0.8888888888888888,
              "#fdca26"
             ],
             [
              1,
              "#f0f921"
             ]
            ],
            "type": "heatmap"
           }
          ],
          "heatmapgl": [
           {
            "colorbar": {
             "outlinewidth": 0,
             "ticks": ""
            },
            "colorscale": [
             [
              0,
              "#0d0887"
             ],
             [
              0.1111111111111111,
              "#46039f"
             ],
             [
              0.2222222222222222,
              "#7201a8"
             ],
             [
              0.3333333333333333,
              "#9c179e"
             ],
             [
              0.4444444444444444,
              "#bd3786"
             ],
             [
              0.5555555555555556,
              "#d8576b"
             ],
             [
              0.6666666666666666,
              "#ed7953"
             ],
             [
              0.7777777777777778,
              "#fb9f3a"
             ],
             [
              0.8888888888888888,
              "#fdca26"
             ],
             [
              1,
              "#f0f921"
             ]
            ],
            "type": "heatmapgl"
           }
          ],
          "histogram": [
           {
            "marker": {
             "pattern": {
              "fillmode": "overlay",
              "size": 10,
              "solidity": 0.2
             }
            },
            "type": "histogram"
           }
          ],
          "histogram2d": [
           {
            "colorbar": {
             "outlinewidth": 0,
             "ticks": ""
            },
            "colorscale": [
             [
              0,
              "#0d0887"
             ],
             [
              0.1111111111111111,
              "#46039f"
             ],
             [
              0.2222222222222222,
              "#7201a8"
             ],
             [
              0.3333333333333333,
              "#9c179e"
             ],
             [
              0.4444444444444444,
              "#bd3786"
             ],
             [
              0.5555555555555556,
              "#d8576b"
             ],
             [
              0.6666666666666666,
              "#ed7953"
             ],
             [
              0.7777777777777778,
              "#fb9f3a"
             ],
             [
              0.8888888888888888,
              "#fdca26"
             ],
             [
              1,
              "#f0f921"
             ]
            ],
            "type": "histogram2d"
           }
          ],
          "histogram2dcontour": [
           {
            "colorbar": {
             "outlinewidth": 0,
             "ticks": ""
            },
            "colorscale": [
             [
              0,
              "#0d0887"
             ],
             [
              0.1111111111111111,
              "#46039f"
             ],
             [
              0.2222222222222222,
              "#7201a8"
             ],
             [
              0.3333333333333333,
              "#9c179e"
             ],
             [
              0.4444444444444444,
              "#bd3786"
             ],
             [
              0.5555555555555556,
              "#d8576b"
             ],
             [
              0.6666666666666666,
              "#ed7953"
             ],
             [
              0.7777777777777778,
              "#fb9f3a"
             ],
             [
              0.8888888888888888,
              "#fdca26"
             ],
             [
              1,
              "#f0f921"
             ]
            ],
            "type": "histogram2dcontour"
           }
          ],
          "mesh3d": [
           {
            "colorbar": {
             "outlinewidth": 0,
             "ticks": ""
            },
            "type": "mesh3d"
           }
          ],
          "parcoords": [
           {
            "line": {
             "colorbar": {
              "outlinewidth": 0,
              "ticks": ""
             }
            },
            "type": "parcoords"
           }
          ],
          "pie": [
           {
            "automargin": true,
            "type": "pie"
           }
          ],
          "scatter": [
           {
            "marker": {
             "colorbar": {
              "outlinewidth": 0,
              "ticks": ""
             }
            },
            "type": "scatter"
           }
          ],
          "scatter3d": [
           {
            "line": {
             "colorbar": {
              "outlinewidth": 0,
              "ticks": ""
             }
            },
            "marker": {
             "colorbar": {
              "outlinewidth": 0,
              "ticks": ""
             }
            },
            "type": "scatter3d"
           }
          ],
          "scattercarpet": [
           {
            "marker": {
             "colorbar": {
              "outlinewidth": 0,
              "ticks": ""
             }
            },
            "type": "scattercarpet"
           }
          ],
          "scattergeo": [
           {
            "marker": {
             "colorbar": {
              "outlinewidth": 0,
              "ticks": ""
             }
            },
            "type": "scattergeo"
           }
          ],
          "scattergl": [
           {
            "marker": {
             "colorbar": {
              "outlinewidth": 0,
              "ticks": ""
             }
            },
            "type": "scattergl"
           }
          ],
          "scattermapbox": [
           {
            "marker": {
             "colorbar": {
              "outlinewidth": 0,
              "ticks": ""
             }
            },
            "type": "scattermapbox"
           }
          ],
          "scatterpolar": [
           {
            "marker": {
             "colorbar": {
              "outlinewidth": 0,
              "ticks": ""
             }
            },
            "type": "scatterpolar"
           }
          ],
          "scatterpolargl": [
           {
            "marker": {
             "colorbar": {
              "outlinewidth": 0,
              "ticks": ""
             }
            },
            "type": "scatterpolargl"
           }
          ],
          "scatterternary": [
           {
            "marker": {
             "colorbar": {
              "outlinewidth": 0,
              "ticks": ""
             }
            },
            "type": "scatterternary"
           }
          ],
          "surface": [
           {
            "colorbar": {
             "outlinewidth": 0,
             "ticks": ""
            },
            "colorscale": [
             [
              0,
              "#0d0887"
             ],
             [
              0.1111111111111111,
              "#46039f"
             ],
             [
              0.2222222222222222,
              "#7201a8"
             ],
             [
              0.3333333333333333,
              "#9c179e"
             ],
             [
              0.4444444444444444,
              "#bd3786"
             ],
             [
              0.5555555555555556,
              "#d8576b"
             ],
             [
              0.6666666666666666,
              "#ed7953"
             ],
             [
              0.7777777777777778,
              "#fb9f3a"
             ],
             [
              0.8888888888888888,
              "#fdca26"
             ],
             [
              1,
              "#f0f921"
             ]
            ],
            "type": "surface"
           }
          ],
          "table": [
           {
            "cells": {
             "fill": {
              "color": "#EBF0F8"
             },
             "line": {
              "color": "white"
             }
            },
            "header": {
             "fill": {
              "color": "#C8D4E3"
             },
             "line": {
              "color": "white"
             }
            },
            "type": "table"
           }
          ]
         },
         "layout": {
          "annotationdefaults": {
           "arrowcolor": "#2a3f5f",
           "arrowhead": 0,
           "arrowwidth": 1
          },
          "autotypenumbers": "strict",
          "coloraxis": {
           "colorbar": {
            "outlinewidth": 0,
            "ticks": ""
           }
          },
          "colorscale": {
           "diverging": [
            [
             0,
             "#8e0152"
            ],
            [
             0.1,
             "#c51b7d"
            ],
            [
             0.2,
             "#de77ae"
            ],
            [
             0.3,
             "#f1b6da"
            ],
            [
             0.4,
             "#fde0ef"
            ],
            [
             0.5,
             "#f7f7f7"
            ],
            [
             0.6,
             "#e6f5d0"
            ],
            [
             0.7,
             "#b8e186"
            ],
            [
             0.8,
             "#7fbc41"
            ],
            [
             0.9,
             "#4d9221"
            ],
            [
             1,
             "#276419"
            ]
           ],
           "sequential": [
            [
             0,
             "#0d0887"
            ],
            [
             0.1111111111111111,
             "#46039f"
            ],
            [
             0.2222222222222222,
             "#7201a8"
            ],
            [
             0.3333333333333333,
             "#9c179e"
            ],
            [
             0.4444444444444444,
             "#bd3786"
            ],
            [
             0.5555555555555556,
             "#d8576b"
            ],
            [
             0.6666666666666666,
             "#ed7953"
            ],
            [
             0.7777777777777778,
             "#fb9f3a"
            ],
            [
             0.8888888888888888,
             "#fdca26"
            ],
            [
             1,
             "#f0f921"
            ]
           ],
           "sequentialminus": [
            [
             0,
             "#0d0887"
            ],
            [
             0.1111111111111111,
             "#46039f"
            ],
            [
             0.2222222222222222,
             "#7201a8"
            ],
            [
             0.3333333333333333,
             "#9c179e"
            ],
            [
             0.4444444444444444,
             "#bd3786"
            ],
            [
             0.5555555555555556,
             "#d8576b"
            ],
            [
             0.6666666666666666,
             "#ed7953"
            ],
            [
             0.7777777777777778,
             "#fb9f3a"
            ],
            [
             0.8888888888888888,
             "#fdca26"
            ],
            [
             1,
             "#f0f921"
            ]
           ]
          },
          "colorway": [
           "#636efa",
           "#EF553B",
           "#00cc96",
           "#ab63fa",
           "#FFA15A",
           "#19d3f3",
           "#FF6692",
           "#B6E880",
           "#FF97FF",
           "#FECB52"
          ],
          "font": {
           "color": "#2a3f5f"
          },
          "geo": {
           "bgcolor": "white",
           "lakecolor": "white",
           "landcolor": "#E5ECF6",
           "showlakes": true,
           "showland": true,
           "subunitcolor": "white"
          },
          "hoverlabel": {
           "align": "left"
          },
          "hovermode": "closest",
          "mapbox": {
           "style": "light"
          },
          "paper_bgcolor": "white",
          "plot_bgcolor": "#E5ECF6",
          "polar": {
           "angularaxis": {
            "gridcolor": "white",
            "linecolor": "white",
            "ticks": ""
           },
           "bgcolor": "#E5ECF6",
           "radialaxis": {
            "gridcolor": "white",
            "linecolor": "white",
            "ticks": ""
           }
          },
          "scene": {
           "xaxis": {
            "backgroundcolor": "#E5ECF6",
            "gridcolor": "white",
            "gridwidth": 2,
            "linecolor": "white",
            "showbackground": true,
            "ticks": "",
            "zerolinecolor": "white"
           },
           "yaxis": {
            "backgroundcolor": "#E5ECF6",
            "gridcolor": "white",
            "gridwidth": 2,
            "linecolor": "white",
            "showbackground": true,
            "ticks": "",
            "zerolinecolor": "white"
           },
           "zaxis": {
            "backgroundcolor": "#E5ECF6",
            "gridcolor": "white",
            "gridwidth": 2,
            "linecolor": "white",
            "showbackground": true,
            "ticks": "",
            "zerolinecolor": "white"
           }
          },
          "shapedefaults": {
           "line": {
            "color": "#2a3f5f"
           }
          },
          "ternary": {
           "aaxis": {
            "gridcolor": "white",
            "linecolor": "white",
            "ticks": ""
           },
           "baxis": {
            "gridcolor": "white",
            "linecolor": "white",
            "ticks": ""
           },
           "bgcolor": "#E5ECF6",
           "caxis": {
            "gridcolor": "white",
            "linecolor": "white",
            "ticks": ""
           }
          },
          "title": {
           "x": 0.05
          },
          "xaxis": {
           "automargin": true,
           "gridcolor": "white",
           "linecolor": "white",
           "ticks": "",
           "title": {
            "standoff": 15
           },
           "zerolinecolor": "white",
           "zerolinewidth": 2
          },
          "yaxis": {
           "automargin": true,
           "gridcolor": "white",
           "linecolor": "white",
           "ticks": "",
           "title": {
            "standoff": 15
           },
           "zerolinecolor": "white",
           "zerolinewidth": 2
          }
         }
        },
        "title": {
         "text": "Mean Squared error Vs epochs"
        },
        "xaxis": {
         "title": {
          "text": "Epoch"
         }
        },
        "yaxis": {
         "title": {
          "text": "Mean Square error"
         }
        }
       }
      },
      "text/html": [
       "<div>                            <div id=\"044277a4-b353-4f42-be1d-0c47f65b182e\" class=\"plotly-graph-div\" style=\"height:525px; width:100%;\"></div>            <script type=\"text/javascript\">                require([\"plotly\"], function(Plotly) {                    window.PLOTLYENV=window.PLOTLYENV || {};                                    if (document.getElementById(\"044277a4-b353-4f42-be1d-0c47f65b182e\")) {                    Plotly.newPlot(                        \"044277a4-b353-4f42-be1d-0c47f65b182e\",                        [{\"name\":\"Train loss\",\"x\":[0,1,2,3,4,5,6,7,8,9,10,11,12,13,14,15,16,17,18,19,20,21,22,23,24,25,26,27,28,29,30,31,32,33,34,35,36,37,38,39],\"y\":[19.68637677598242,19.62552919501649,19.07594120930174,14.489325431205202,8.212788387322458,6.785904539375454,6.1455472714855,5.757233059048579,5.52814030156232,5.332277250111969,5.320418765177086,4.661926008637081,4.3867009923097715,3.9746482108571755,3.8117198867156628,3.695408267491879,3.7652886791603115,3.98220312917747,4.241386532529276,4.605982702434515,4.788367984235519,4.591734264965904,4.41170236499495,4.157718674553831,4.043787329492829,3.9170454247856354,3.8882531338033095,3.8483622345174426,3.8448009723383985,3.868917792024242,3.87029405831152,3.9160145211481576,3.88929687586149,3.9270957436173823,3.8587954460567437,3.882847876815404,3.7832150356488716,3.7992813999311443,3.686524789547814,3.7044563701379136],\"type\":\"scatter\"},{\"name\":\"Test loss\",\"x\":[0,1,2,3,4,5,6,7,8,9,10,11,12,13,14,15,16,17,18,19,20,21,22,23,24,25,26,27,28,29,30,31,32,33,34,35,36,37,38,39],\"y\":[19.811558622621707,19.668493334674466,18.096465744301014,10.262539652217683,7.897649675621301,6.860960658271022,6.582500180318299,6.2193019473632045,6.2693218642900215,6.347721515404984,5.844639044861657,5.6079902163110384,5.237115273492889,5.167275949015301,4.966272514682624,5.180005158029545,5.066844026349338,5.847096444527009,5.652074055665967,7.137930500819194,5.984855539557291,7.052138383175382,5.75360756696072,6.569270502659562,5.59298602665967,6.298636112487025,5.558620824114446,6.254065375835562,5.619465626716445,6.309331553181791,5.715269721880161,6.362723821543252,5.785944005479659,6.377944379427288,5.805154149275458,6.343088833062076,5.773810405929566,6.283167902210935,5.721395445427191,6.2256180102768015],\"type\":\"scatter\"}],                        {\"template\":{\"data\":{\"bar\":[{\"error_x\":{\"color\":\"#2a3f5f\"},\"error_y\":{\"color\":\"#2a3f5f\"},\"marker\":{\"line\":{\"color\":\"#E5ECF6\",\"width\":0.5},\"pattern\":{\"fillmode\":\"overlay\",\"size\":10,\"solidity\":0.2}},\"type\":\"bar\"}],\"barpolar\":[{\"marker\":{\"line\":{\"color\":\"#E5ECF6\",\"width\":0.5},\"pattern\":{\"fillmode\":\"overlay\",\"size\":10,\"solidity\":0.2}},\"type\":\"barpolar\"}],\"carpet\":[{\"aaxis\":{\"endlinecolor\":\"#2a3f5f\",\"gridcolor\":\"white\",\"linecolor\":\"white\",\"minorgridcolor\":\"white\",\"startlinecolor\":\"#2a3f5f\"},\"baxis\":{\"endlinecolor\":\"#2a3f5f\",\"gridcolor\":\"white\",\"linecolor\":\"white\",\"minorgridcolor\":\"white\",\"startlinecolor\":\"#2a3f5f\"},\"type\":\"carpet\"}],\"choropleth\":[{\"colorbar\":{\"outlinewidth\":0,\"ticks\":\"\"},\"type\":\"choropleth\"}],\"contour\":[{\"colorbar\":{\"outlinewidth\":0,\"ticks\":\"\"},\"colorscale\":[[0.0,\"#0d0887\"],[0.1111111111111111,\"#46039f\"],[0.2222222222222222,\"#7201a8\"],[0.3333333333333333,\"#9c179e\"],[0.4444444444444444,\"#bd3786\"],[0.5555555555555556,\"#d8576b\"],[0.6666666666666666,\"#ed7953\"],[0.7777777777777778,\"#fb9f3a\"],[0.8888888888888888,\"#fdca26\"],[1.0,\"#f0f921\"]],\"type\":\"contour\"}],\"contourcarpet\":[{\"colorbar\":{\"outlinewidth\":0,\"ticks\":\"\"},\"type\":\"contourcarpet\"}],\"heatmap\":[{\"colorbar\":{\"outlinewidth\":0,\"ticks\":\"\"},\"colorscale\":[[0.0,\"#0d0887\"],[0.1111111111111111,\"#46039f\"],[0.2222222222222222,\"#7201a8\"],[0.3333333333333333,\"#9c179e\"],[0.4444444444444444,\"#bd3786\"],[0.5555555555555556,\"#d8576b\"],[0.6666666666666666,\"#ed7953\"],[0.7777777777777778,\"#fb9f3a\"],[0.8888888888888888,\"#fdca26\"],[1.0,\"#f0f921\"]],\"type\":\"heatmap\"}],\"heatmapgl\":[{\"colorbar\":{\"outlinewidth\":0,\"ticks\":\"\"},\"colorscale\":[[0.0,\"#0d0887\"],[0.1111111111111111,\"#46039f\"],[0.2222222222222222,\"#7201a8\"],[0.3333333333333333,\"#9c179e\"],[0.4444444444444444,\"#bd3786\"],[0.5555555555555556,\"#d8576b\"],[0.6666666666666666,\"#ed7953\"],[0.7777777777777778,\"#fb9f3a\"],[0.8888888888888888,\"#fdca26\"],[1.0,\"#f0f921\"]],\"type\":\"heatmapgl\"}],\"histogram\":[{\"marker\":{\"pattern\":{\"fillmode\":\"overlay\",\"size\":10,\"solidity\":0.2}},\"type\":\"histogram\"}],\"histogram2d\":[{\"colorbar\":{\"outlinewidth\":0,\"ticks\":\"\"},\"colorscale\":[[0.0,\"#0d0887\"],[0.1111111111111111,\"#46039f\"],[0.2222222222222222,\"#7201a8\"],[0.3333333333333333,\"#9c179e\"],[0.4444444444444444,\"#bd3786\"],[0.5555555555555556,\"#d8576b\"],[0.6666666666666666,\"#ed7953\"],[0.7777777777777778,\"#fb9f3a\"],[0.8888888888888888,\"#fdca26\"],[1.0,\"#f0f921\"]],\"type\":\"histogram2d\"}],\"histogram2dcontour\":[{\"colorbar\":{\"outlinewidth\":0,\"ticks\":\"\"},\"colorscale\":[[0.0,\"#0d0887\"],[0.1111111111111111,\"#46039f\"],[0.2222222222222222,\"#7201a8\"],[0.3333333333333333,\"#9c179e\"],[0.4444444444444444,\"#bd3786\"],[0.5555555555555556,\"#d8576b\"],[0.6666666666666666,\"#ed7953\"],[0.7777777777777778,\"#fb9f3a\"],[0.8888888888888888,\"#fdca26\"],[1.0,\"#f0f921\"]],\"type\":\"histogram2dcontour\"}],\"mesh3d\":[{\"colorbar\":{\"outlinewidth\":0,\"ticks\":\"\"},\"type\":\"mesh3d\"}],\"parcoords\":[{\"line\":{\"colorbar\":{\"outlinewidth\":0,\"ticks\":\"\"}},\"type\":\"parcoords\"}],\"pie\":[{\"automargin\":true,\"type\":\"pie\"}],\"scatter\":[{\"marker\":{\"colorbar\":{\"outlinewidth\":0,\"ticks\":\"\"}},\"type\":\"scatter\"}],\"scatter3d\":[{\"line\":{\"colorbar\":{\"outlinewidth\":0,\"ticks\":\"\"}},\"marker\":{\"colorbar\":{\"outlinewidth\":0,\"ticks\":\"\"}},\"type\":\"scatter3d\"}],\"scattercarpet\":[{\"marker\":{\"colorbar\":{\"outlinewidth\":0,\"ticks\":\"\"}},\"type\":\"scattercarpet\"}],\"scattergeo\":[{\"marker\":{\"colorbar\":{\"outlinewidth\":0,\"ticks\":\"\"}},\"type\":\"scattergeo\"}],\"scattergl\":[{\"marker\":{\"colorbar\":{\"outlinewidth\":0,\"ticks\":\"\"}},\"type\":\"scattergl\"}],\"scattermapbox\":[{\"marker\":{\"colorbar\":{\"outlinewidth\":0,\"ticks\":\"\"}},\"type\":\"scattermapbox\"}],\"scatterpolar\":[{\"marker\":{\"colorbar\":{\"outlinewidth\":0,\"ticks\":\"\"}},\"type\":\"scatterpolar\"}],\"scatterpolargl\":[{\"marker\":{\"colorbar\":{\"outlinewidth\":0,\"ticks\":\"\"}},\"type\":\"scatterpolargl\"}],\"scatterternary\":[{\"marker\":{\"colorbar\":{\"outlinewidth\":0,\"ticks\":\"\"}},\"type\":\"scatterternary\"}],\"surface\":[{\"colorbar\":{\"outlinewidth\":0,\"ticks\":\"\"},\"colorscale\":[[0.0,\"#0d0887\"],[0.1111111111111111,\"#46039f\"],[0.2222222222222222,\"#7201a8\"],[0.3333333333333333,\"#9c179e\"],[0.4444444444444444,\"#bd3786\"],[0.5555555555555556,\"#d8576b\"],[0.6666666666666666,\"#ed7953\"],[0.7777777777777778,\"#fb9f3a\"],[0.8888888888888888,\"#fdca26\"],[1.0,\"#f0f921\"]],\"type\":\"surface\"}],\"table\":[{\"cells\":{\"fill\":{\"color\":\"#EBF0F8\"},\"line\":{\"color\":\"white\"}},\"header\":{\"fill\":{\"color\":\"#C8D4E3\"},\"line\":{\"color\":\"white\"}},\"type\":\"table\"}]},\"layout\":{\"annotationdefaults\":{\"arrowcolor\":\"#2a3f5f\",\"arrowhead\":0,\"arrowwidth\":1},\"autotypenumbers\":\"strict\",\"coloraxis\":{\"colorbar\":{\"outlinewidth\":0,\"ticks\":\"\"}},\"colorscale\":{\"diverging\":[[0,\"#8e0152\"],[0.1,\"#c51b7d\"],[0.2,\"#de77ae\"],[0.3,\"#f1b6da\"],[0.4,\"#fde0ef\"],[0.5,\"#f7f7f7\"],[0.6,\"#e6f5d0\"],[0.7,\"#b8e186\"],[0.8,\"#7fbc41\"],[0.9,\"#4d9221\"],[1,\"#276419\"]],\"sequential\":[[0.0,\"#0d0887\"],[0.1111111111111111,\"#46039f\"],[0.2222222222222222,\"#7201a8\"],[0.3333333333333333,\"#9c179e\"],[0.4444444444444444,\"#bd3786\"],[0.5555555555555556,\"#d8576b\"],[0.6666666666666666,\"#ed7953\"],[0.7777777777777778,\"#fb9f3a\"],[0.8888888888888888,\"#fdca26\"],[1.0,\"#f0f921\"]],\"sequentialminus\":[[0.0,\"#0d0887\"],[0.1111111111111111,\"#46039f\"],[0.2222222222222222,\"#7201a8\"],[0.3333333333333333,\"#9c179e\"],[0.4444444444444444,\"#bd3786\"],[0.5555555555555556,\"#d8576b\"],[0.6666666666666666,\"#ed7953\"],[0.7777777777777778,\"#fb9f3a\"],[0.8888888888888888,\"#fdca26\"],[1.0,\"#f0f921\"]]},\"colorway\":[\"#636efa\",\"#EF553B\",\"#00cc96\",\"#ab63fa\",\"#FFA15A\",\"#19d3f3\",\"#FF6692\",\"#B6E880\",\"#FF97FF\",\"#FECB52\"],\"font\":{\"color\":\"#2a3f5f\"},\"geo\":{\"bgcolor\":\"white\",\"lakecolor\":\"white\",\"landcolor\":\"#E5ECF6\",\"showlakes\":true,\"showland\":true,\"subunitcolor\":\"white\"},\"hoverlabel\":{\"align\":\"left\"},\"hovermode\":\"closest\",\"mapbox\":{\"style\":\"light\"},\"paper_bgcolor\":\"white\",\"plot_bgcolor\":\"#E5ECF6\",\"polar\":{\"angularaxis\":{\"gridcolor\":\"white\",\"linecolor\":\"white\",\"ticks\":\"\"},\"bgcolor\":\"#E5ECF6\",\"radialaxis\":{\"gridcolor\":\"white\",\"linecolor\":\"white\",\"ticks\":\"\"}},\"scene\":{\"xaxis\":{\"backgroundcolor\":\"#E5ECF6\",\"gridcolor\":\"white\",\"gridwidth\":2,\"linecolor\":\"white\",\"showbackground\":true,\"ticks\":\"\",\"zerolinecolor\":\"white\"},\"yaxis\":{\"backgroundcolor\":\"#E5ECF6\",\"gridcolor\":\"white\",\"gridwidth\":2,\"linecolor\":\"white\",\"showbackground\":true,\"ticks\":\"\",\"zerolinecolor\":\"white\"},\"zaxis\":{\"backgroundcolor\":\"#E5ECF6\",\"gridcolor\":\"white\",\"gridwidth\":2,\"linecolor\":\"white\",\"showbackground\":true,\"ticks\":\"\",\"zerolinecolor\":\"white\"}},\"shapedefaults\":{\"line\":{\"color\":\"#2a3f5f\"}},\"ternary\":{\"aaxis\":{\"gridcolor\":\"white\",\"linecolor\":\"white\",\"ticks\":\"\"},\"baxis\":{\"gridcolor\":\"white\",\"linecolor\":\"white\",\"ticks\":\"\"},\"bgcolor\":\"#E5ECF6\",\"caxis\":{\"gridcolor\":\"white\",\"linecolor\":\"white\",\"ticks\":\"\"}},\"title\":{\"x\":0.05},\"xaxis\":{\"automargin\":true,\"gridcolor\":\"white\",\"linecolor\":\"white\",\"ticks\":\"\",\"title\":{\"standoff\":15},\"zerolinecolor\":\"white\",\"zerolinewidth\":2},\"yaxis\":{\"automargin\":true,\"gridcolor\":\"white\",\"linecolor\":\"white\",\"ticks\":\"\",\"title\":{\"standoff\":15},\"zerolinecolor\":\"white\",\"zerolinewidth\":2}}},\"xaxis\":{\"title\":{\"text\":\"Epoch\"}},\"yaxis\":{\"title\":{\"text\":\"Mean Square error\"}},\"title\":{\"text\":\"Mean Squared error Vs epochs\"}},                        {\"responsive\": true}                    ).then(function(){\n",
       "                            \n",
       "var gd = document.getElementById('044277a4-b353-4f42-be1d-0c47f65b182e');\n",
       "var x = new MutationObserver(function (mutations, observer) {{\n",
       "        var display = window.getComputedStyle(gd).display;\n",
       "        if (!display || display === 'none') {{\n",
       "            console.log([gd, 'removed!']);\n",
       "            Plotly.purge(gd);\n",
       "            observer.disconnect();\n",
       "        }}\n",
       "}});\n",
       "\n",
       "// Listen for the removal of the full notebook cells\n",
       "var notebookContainer = gd.closest('#notebook-container');\n",
       "if (notebookContainer) {{\n",
       "    x.observe(notebookContainer, {childList: true});\n",
       "}}\n",
       "\n",
       "// Listen for the clearing of the current output cell\n",
       "var outputEl = gd.closest('.output');\n",
       "if (outputEl) {{\n",
       "    x.observe(outputEl, {childList: true});\n",
       "}}\n",
       "\n",
       "                        })                };                });            </script>        </div>"
      ]
     },
     "metadata": {},
     "output_type": "display_data"
    }
   ],
   "source": [
    "# PLot of loss with respect to epoch\n",
    "# This is with plotly, Which gives interactive plot so easy to analyze\n",
    "\n",
    "fig = go.Figure()\n",
    "\n",
    "fig.add_trace(\n",
    "    go.Scatter(\n",
    "       x=list(range(40)), y=train_loss,name = 'Train loss'\n",
    "    ))\n",
    "\n",
    "fig.add_trace(\n",
    "    go.Scatter(\n",
    "       x=list(range(40)), y=test_loss, name = 'Test loss'\n",
    "    ))\n",
    "\n",
    "fig.update_layout(xaxis_title='Epoch',\n",
    "                   yaxis_title='Mean Square error',\n",
    "                 title= 'Mean Squared error Vs epochs')\n",
    "fig.show()\n"
   ]
  },
  {
   "cell_type": "code",
   "execution_count": 45,
   "id": "0428f8ef",
   "metadata": {},
   "outputs": [],
   "source": [
    "# Okay, Cool . Now I have value of x and theta matrix, Now i can predict for any user and content pair"
   ]
  },
  {
   "cell_type": "code",
   "execution_count": 46,
   "id": "29ce2053",
   "metadata": {},
   "outputs": [
    {
     "data": {
      "text/html": [
       "<div>\n",
       "<style scoped>\n",
       "    .dataframe tbody tr th:only-of-type {\n",
       "        vertical-align: middle;\n",
       "    }\n",
       "\n",
       "    .dataframe tbody tr th {\n",
       "        vertical-align: top;\n",
       "    }\n",
       "\n",
       "    .dataframe thead th {\n",
       "        text-align: right;\n",
       "    }\n",
       "</style>\n",
       "<table border=\"1\" class=\"dataframe\">\n",
       "  <thead>\n",
       "    <tr style=\"text-align: right;\">\n",
       "      <th></th>\n",
       "      <th>13580</th>\n",
       "      <th>13929</th>\n",
       "      <th>13903</th>\n",
       "      <th>13912</th>\n",
       "      <th>13830</th>\n",
       "      <th>12368</th>\n",
       "      <th>13454</th>\n",
       "      <th>13735</th>\n",
       "      <th>13774</th>\n",
       "      <th>13862</th>\n",
       "      <th>...</th>\n",
       "      <th>13820</th>\n",
       "      <th>13930</th>\n",
       "      <th>13566</th>\n",
       "      <th>13924</th>\n",
       "      <th>13899</th>\n",
       "      <th>12366</th>\n",
       "      <th>13725</th>\n",
       "      <th>13856</th>\n",
       "      <th>13751</th>\n",
       "      <th>13678</th>\n",
       "    </tr>\n",
       "  </thead>\n",
       "  <tbody>\n",
       "    <tr>\n",
       "      <th>29</th>\n",
       "      <td>1.912463</td>\n",
       "      <td>1.872852</td>\n",
       "      <td>0.757933</td>\n",
       "      <td>1.908907</td>\n",
       "      <td>1.815770</td>\n",
       "      <td>1.717744</td>\n",
       "      <td>1.790834</td>\n",
       "      <td>0.864771</td>\n",
       "      <td>1.840792</td>\n",
       "      <td>2.119133</td>\n",
       "      <td>...</td>\n",
       "      <td>1.615354</td>\n",
       "      <td>0.784634</td>\n",
       "      <td>0.764117</td>\n",
       "      <td>1.042344</td>\n",
       "      <td>0.412441</td>\n",
       "      <td>1.758147</td>\n",
       "      <td>1.337034</td>\n",
       "      <td>1.432245</td>\n",
       "      <td>0.155935</td>\n",
       "      <td>0.248952</td>\n",
       "    </tr>\n",
       "    <tr>\n",
       "      <th>CS_1320</th>\n",
       "      <td>1.109225</td>\n",
       "      <td>3.832714</td>\n",
       "      <td>9.665217</td>\n",
       "      <td>6.024963</td>\n",
       "      <td>1.823332</td>\n",
       "      <td>5.756903</td>\n",
       "      <td>0.782163</td>\n",
       "      <td>4.773254</td>\n",
       "      <td>0.442550</td>\n",
       "      <td>-0.027589</td>\n",
       "      <td>...</td>\n",
       "      <td>0.583908</td>\n",
       "      <td>1.733889</td>\n",
       "      <td>1.635872</td>\n",
       "      <td>0.872627</td>\n",
       "      <td>1.351178</td>\n",
       "      <td>1.592694</td>\n",
       "      <td>-0.658722</td>\n",
       "      <td>0.918049</td>\n",
       "      <td>0.552783</td>\n",
       "      <td>0.957772</td>\n",
       "    </tr>\n",
       "    <tr>\n",
       "      <th>CS_1285</th>\n",
       "      <td>6.112684</td>\n",
       "      <td>5.847890</td>\n",
       "      <td>7.105921</td>\n",
       "      <td>11.736896</td>\n",
       "      <td>3.170207</td>\n",
       "      <td>-0.792439</td>\n",
       "      <td>4.720596</td>\n",
       "      <td>10.425315</td>\n",
       "      <td>3.661166</td>\n",
       "      <td>4.247937</td>\n",
       "      <td>...</td>\n",
       "      <td>3.870311</td>\n",
       "      <td>3.297024</td>\n",
       "      <td>2.740073</td>\n",
       "      <td>3.995588</td>\n",
       "      <td>1.540397</td>\n",
       "      <td>3.777997</td>\n",
       "      <td>2.878926</td>\n",
       "      <td>3.628296</td>\n",
       "      <td>0.365719</td>\n",
       "      <td>1.340627</td>\n",
       "    </tr>\n",
       "    <tr>\n",
       "      <th>CS_1395</th>\n",
       "      <td>1.899416</td>\n",
       "      <td>6.767870</td>\n",
       "      <td>7.996662</td>\n",
       "      <td>-0.670103</td>\n",
       "      <td>3.120608</td>\n",
       "      <td>8.534900</td>\n",
       "      <td>0.443633</td>\n",
       "      <td>5.489125</td>\n",
       "      <td>2.047873</td>\n",
       "      <td>1.288864</td>\n",
       "      <td>...</td>\n",
       "      <td>2.189278</td>\n",
       "      <td>1.008945</td>\n",
       "      <td>1.188942</td>\n",
       "      <td>1.046547</td>\n",
       "      <td>1.063451</td>\n",
       "      <td>3.201226</td>\n",
       "      <td>0.015819</td>\n",
       "      <td>1.694257</td>\n",
       "      <td>1.369224</td>\n",
       "      <td>0.815682</td>\n",
       "    </tr>\n",
       "    <tr>\n",
       "      <th>99</th>\n",
       "      <td>3.045093</td>\n",
       "      <td>3.107958</td>\n",
       "      <td>1.882044</td>\n",
       "      <td>3.526738</td>\n",
       "      <td>2.641804</td>\n",
       "      <td>2.238936</td>\n",
       "      <td>2.699685</td>\n",
       "      <td>2.330591</td>\n",
       "      <td>2.701396</td>\n",
       "      <td>3.082272</td>\n",
       "      <td>...</td>\n",
       "      <td>2.453662</td>\n",
       "      <td>1.332310</td>\n",
       "      <td>1.253517</td>\n",
       "      <td>1.730143</td>\n",
       "      <td>0.693470</td>\n",
       "      <td>2.642581</td>\n",
       "      <td>1.945085</td>\n",
       "      <td>2.185378</td>\n",
       "      <td>0.270525</td>\n",
       "      <td>0.467959</td>\n",
       "    </tr>\n",
       "    <tr>\n",
       "      <th>...</th>\n",
       "      <td>...</td>\n",
       "      <td>...</td>\n",
       "      <td>...</td>\n",
       "      <td>...</td>\n",
       "      <td>...</td>\n",
       "      <td>...</td>\n",
       "      <td>...</td>\n",
       "      <td>...</td>\n",
       "      <td>...</td>\n",
       "      <td>...</td>\n",
       "      <td>...</td>\n",
       "      <td>...</td>\n",
       "      <td>...</td>\n",
       "      <td>...</td>\n",
       "      <td>...</td>\n",
       "      <td>...</td>\n",
       "      <td>...</td>\n",
       "      <td>...</td>\n",
       "      <td>...</td>\n",
       "      <td>...</td>\n",
       "      <td>...</td>\n",
       "    </tr>\n",
       "    <tr>\n",
       "      <th>104</th>\n",
       "      <td>0.135939</td>\n",
       "      <td>0.107247</td>\n",
       "      <td>0.201930</td>\n",
       "      <td>0.397654</td>\n",
       "      <td>0.240257</td>\n",
       "      <td>0.430479</td>\n",
       "      <td>0.218960</td>\n",
       "      <td>-0.178530</td>\n",
       "      <td>0.169927</td>\n",
       "      <td>0.205880</td>\n",
       "      <td>...</td>\n",
       "      <td>0.115425</td>\n",
       "      <td>0.108955</td>\n",
       "      <td>0.112581</td>\n",
       "      <td>0.064898</td>\n",
       "      <td>0.073410</td>\n",
       "      <td>0.178594</td>\n",
       "      <td>0.111023</td>\n",
       "      <td>0.137236</td>\n",
       "      <td>-0.007894</td>\n",
       "      <td>0.028401</td>\n",
       "    </tr>\n",
       "    <tr>\n",
       "      <th>CS_749</th>\n",
       "      <td>-0.164170</td>\n",
       "      <td>0.057704</td>\n",
       "      <td>0.479725</td>\n",
       "      <td>0.002527</td>\n",
       "      <td>-0.051179</td>\n",
       "      <td>0.315433</td>\n",
       "      <td>-0.166514</td>\n",
       "      <td>0.098751</td>\n",
       "      <td>-0.154756</td>\n",
       "      <td>-0.222181</td>\n",
       "      <td>...</td>\n",
       "      <td>-0.131113</td>\n",
       "      <td>-0.002735</td>\n",
       "      <td>0.004493</td>\n",
       "      <td>-0.084805</td>\n",
       "      <td>0.033662</td>\n",
       "      <td>-0.069813</td>\n",
       "      <td>-0.190190</td>\n",
       "      <td>-0.098672</td>\n",
       "      <td>0.029520</td>\n",
       "      <td>0.023646</td>\n",
       "    </tr>\n",
       "    <tr>\n",
       "      <th>CS_1082</th>\n",
       "      <td>0.067942</td>\n",
       "      <td>0.242295</td>\n",
       "      <td>0.641236</td>\n",
       "      <td>0.427269</td>\n",
       "      <td>0.205475</td>\n",
       "      <td>0.613087</td>\n",
       "      <td>0.101880</td>\n",
       "      <td>0.095769</td>\n",
       "      <td>0.074510</td>\n",
       "      <td>0.053589</td>\n",
       "      <td>...</td>\n",
       "      <td>0.053713</td>\n",
       "      <td>0.125181</td>\n",
       "      <td>0.128418</td>\n",
       "      <td>0.040870</td>\n",
       "      <td>0.105442</td>\n",
       "      <td>0.152785</td>\n",
       "      <td>-0.020695</td>\n",
       "      <td>0.086849</td>\n",
       "      <td>0.030403</td>\n",
       "      <td>0.059951</td>\n",
       "    </tr>\n",
       "    <tr>\n",
       "      <th>CS_994</th>\n",
       "      <td>0.538693</td>\n",
       "      <td>0.519298</td>\n",
       "      <td>0.173723</td>\n",
       "      <td>0.478866</td>\n",
       "      <td>0.334975</td>\n",
       "      <td>0.005036</td>\n",
       "      <td>0.404372</td>\n",
       "      <td>0.637870</td>\n",
       "      <td>0.422123</td>\n",
       "      <td>0.483805</td>\n",
       "      <td>...</td>\n",
       "      <td>0.415690</td>\n",
       "      <td>0.195179</td>\n",
       "      <td>0.170352</td>\n",
       "      <td>0.319814</td>\n",
       "      <td>0.080319</td>\n",
       "      <td>0.389886</td>\n",
       "      <td>0.331526</td>\n",
       "      <td>0.344967</td>\n",
       "      <td>0.050119</td>\n",
       "      <td>0.072680</td>\n",
       "    </tr>\n",
       "    <tr>\n",
       "      <th>152</th>\n",
       "      <td>0.573748</td>\n",
       "      <td>0.495656</td>\n",
       "      <td>-0.179542</td>\n",
       "      <td>0.189745</td>\n",
       "      <td>0.300393</td>\n",
       "      <td>-0.229399</td>\n",
       "      <td>0.397338</td>\n",
       "      <td>0.626771</td>\n",
       "      <td>0.464984</td>\n",
       "      <td>0.541402</td>\n",
       "      <td>...</td>\n",
       "      <td>0.463258</td>\n",
       "      <td>0.138618</td>\n",
       "      <td>0.116106</td>\n",
       "      <td>0.332551</td>\n",
       "      <td>0.030606</td>\n",
       "      <td>0.387838</td>\n",
       "      <td>0.394840</td>\n",
       "      <td>0.354607</td>\n",
       "      <td>0.052514</td>\n",
       "      <td>0.045347</td>\n",
       "    </tr>\n",
       "  </tbody>\n",
       "</table>\n",
       "<p>800 rows × 267 columns</p>\n",
       "</div>"
      ],
      "text/plain": [
       "            13580     13929     13903      13912     13830     12368  \\\n",
       "29       1.912463  1.872852  0.757933   1.908907  1.815770  1.717744   \n",
       "CS_1320  1.109225  3.832714  9.665217   6.024963  1.823332  5.756903   \n",
       "CS_1285  6.112684  5.847890  7.105921  11.736896  3.170207 -0.792439   \n",
       "CS_1395  1.899416  6.767870  7.996662  -0.670103  3.120608  8.534900   \n",
       "99       3.045093  3.107958  1.882044   3.526738  2.641804  2.238936   \n",
       "...           ...       ...       ...        ...       ...       ...   \n",
       "104      0.135939  0.107247  0.201930   0.397654  0.240257  0.430479   \n",
       "CS_749  -0.164170  0.057704  0.479725   0.002527 -0.051179  0.315433   \n",
       "CS_1082  0.067942  0.242295  0.641236   0.427269  0.205475  0.613087   \n",
       "CS_994   0.538693  0.519298  0.173723   0.478866  0.334975  0.005036   \n",
       "152      0.573748  0.495656 -0.179542   0.189745  0.300393 -0.229399   \n",
       "\n",
       "            13454      13735     13774     13862  ...     13820     13930  \\\n",
       "29       1.790834   0.864771  1.840792  2.119133  ...  1.615354  0.784634   \n",
       "CS_1320  0.782163   4.773254  0.442550 -0.027589  ...  0.583908  1.733889   \n",
       "CS_1285  4.720596  10.425315  3.661166  4.247937  ...  3.870311  3.297024   \n",
       "CS_1395  0.443633   5.489125  2.047873  1.288864  ...  2.189278  1.008945   \n",
       "99       2.699685   2.330591  2.701396  3.082272  ...  2.453662  1.332310   \n",
       "...           ...        ...       ...       ...  ...       ...       ...   \n",
       "104      0.218960  -0.178530  0.169927  0.205880  ...  0.115425  0.108955   \n",
       "CS_749  -0.166514   0.098751 -0.154756 -0.222181  ... -0.131113 -0.002735   \n",
       "CS_1082  0.101880   0.095769  0.074510  0.053589  ...  0.053713  0.125181   \n",
       "CS_994   0.404372   0.637870  0.422123  0.483805  ...  0.415690  0.195179   \n",
       "152      0.397338   0.626771  0.464984  0.541402  ...  0.463258  0.138618   \n",
       "\n",
       "            13566     13924     13899     12366     13725     13856     13751  \\\n",
       "29       0.764117  1.042344  0.412441  1.758147  1.337034  1.432245  0.155935   \n",
       "CS_1320  1.635872  0.872627  1.351178  1.592694 -0.658722  0.918049  0.552783   \n",
       "CS_1285  2.740073  3.995588  1.540397  3.777997  2.878926  3.628296  0.365719   \n",
       "CS_1395  1.188942  1.046547  1.063451  3.201226  0.015819  1.694257  1.369224   \n",
       "99       1.253517  1.730143  0.693470  2.642581  1.945085  2.185378  0.270525   \n",
       "...           ...       ...       ...       ...       ...       ...       ...   \n",
       "104      0.112581  0.064898  0.073410  0.178594  0.111023  0.137236 -0.007894   \n",
       "CS_749   0.004493 -0.084805  0.033662 -0.069813 -0.190190 -0.098672  0.029520   \n",
       "CS_1082  0.128418  0.040870  0.105442  0.152785 -0.020695  0.086849  0.030403   \n",
       "CS_994   0.170352  0.319814  0.080319  0.389886  0.331526  0.344967  0.050119   \n",
       "152      0.116106  0.332551  0.030606  0.387838  0.394840  0.354607  0.052514   \n",
       "\n",
       "            13678  \n",
       "29       0.248952  \n",
       "CS_1320  0.957772  \n",
       "CS_1285  1.340627  \n",
       "CS_1395  0.815682  \n",
       "99       0.467959  \n",
       "...           ...  \n",
       "104      0.028401  \n",
       "CS_749   0.023646  \n",
       "CS_1082  0.059951  \n",
       "CS_994   0.072680  \n",
       "152      0.045347  \n",
       "\n",
       "[800 rows x 267 columns]"
      ]
     },
     "execution_count": 46,
     "metadata": {},
     "output_type": "execute_result"
    }
   ],
   "source": [
    "# Now we will create the df in which we have predicted value of count.\n",
    "df_recommendation = pd.DataFrame(x.dot(theta.T), index = df['content'].unique(), columns = df['idUser'].unique())\n",
    "df_recommendation"
   ]
  },
  {
   "cell_type": "code",
   "execution_count": 47,
   "id": "b9d7e15c",
   "metadata": {},
   "outputs": [],
   "source": [
    "df_recommendation.to_csv('Final_recommendation_array.csv', index=True)"
   ]
  },
  {
   "cell_type": "markdown",
   "id": "ea860af0",
   "metadata": {},
   "source": [
    "### e) Reload the saved model  \n",
    "<a id=\"Section_3_4\"></a>"
   ]
  },
  {
   "cell_type": "code",
   "execution_count": 48,
   "id": "25fa88ec",
   "metadata": {},
   "outputs": [
    {
     "data": {
      "text/html": [
       "<div>\n",
       "<style scoped>\n",
       "    .dataframe tbody tr th:only-of-type {\n",
       "        vertical-align: middle;\n",
       "    }\n",
       "\n",
       "    .dataframe tbody tr th {\n",
       "        vertical-align: top;\n",
       "    }\n",
       "\n",
       "    .dataframe thead th {\n",
       "        text-align: right;\n",
       "    }\n",
       "</style>\n",
       "<table border=\"1\" class=\"dataframe\">\n",
       "  <thead>\n",
       "    <tr style=\"text-align: right;\">\n",
       "      <th></th>\n",
       "      <th>13580</th>\n",
       "      <th>13929</th>\n",
       "      <th>13903</th>\n",
       "      <th>13912</th>\n",
       "      <th>13830</th>\n",
       "      <th>12368</th>\n",
       "      <th>13454</th>\n",
       "      <th>13735</th>\n",
       "      <th>13774</th>\n",
       "      <th>13862</th>\n",
       "      <th>...</th>\n",
       "      <th>13820</th>\n",
       "      <th>13930</th>\n",
       "      <th>13566</th>\n",
       "      <th>13924</th>\n",
       "      <th>13899</th>\n",
       "      <th>12366</th>\n",
       "      <th>13725</th>\n",
       "      <th>13856</th>\n",
       "      <th>13751</th>\n",
       "      <th>13678</th>\n",
       "    </tr>\n",
       "  </thead>\n",
       "  <tbody>\n",
       "    <tr>\n",
       "      <th>29</th>\n",
       "      <td>1.912463</td>\n",
       "      <td>1.872852</td>\n",
       "      <td>0.757933</td>\n",
       "      <td>1.908907</td>\n",
       "      <td>1.815770</td>\n",
       "      <td>1.717744</td>\n",
       "      <td>1.790834</td>\n",
       "      <td>0.864771</td>\n",
       "      <td>1.840792</td>\n",
       "      <td>2.119133</td>\n",
       "      <td>...</td>\n",
       "      <td>1.615354</td>\n",
       "      <td>0.784634</td>\n",
       "      <td>0.764117</td>\n",
       "      <td>1.042344</td>\n",
       "      <td>0.412441</td>\n",
       "      <td>1.758147</td>\n",
       "      <td>1.337034</td>\n",
       "      <td>1.432245</td>\n",
       "      <td>0.155935</td>\n",
       "      <td>0.248952</td>\n",
       "    </tr>\n",
       "    <tr>\n",
       "      <th>CS_1320</th>\n",
       "      <td>1.109225</td>\n",
       "      <td>3.832714</td>\n",
       "      <td>9.665217</td>\n",
       "      <td>6.024963</td>\n",
       "      <td>1.823332</td>\n",
       "      <td>5.756903</td>\n",
       "      <td>0.782163</td>\n",
       "      <td>4.773254</td>\n",
       "      <td>0.442550</td>\n",
       "      <td>-0.027589</td>\n",
       "      <td>...</td>\n",
       "      <td>0.583908</td>\n",
       "      <td>1.733889</td>\n",
       "      <td>1.635872</td>\n",
       "      <td>0.872627</td>\n",
       "      <td>1.351178</td>\n",
       "      <td>1.592694</td>\n",
       "      <td>-0.658722</td>\n",
       "      <td>0.918049</td>\n",
       "      <td>0.552783</td>\n",
       "      <td>0.957772</td>\n",
       "    </tr>\n",
       "    <tr>\n",
       "      <th>CS_1285</th>\n",
       "      <td>6.112684</td>\n",
       "      <td>5.847890</td>\n",
       "      <td>7.105921</td>\n",
       "      <td>11.736896</td>\n",
       "      <td>3.170207</td>\n",
       "      <td>-0.792439</td>\n",
       "      <td>4.720596</td>\n",
       "      <td>10.425315</td>\n",
       "      <td>3.661166</td>\n",
       "      <td>4.247937</td>\n",
       "      <td>...</td>\n",
       "      <td>3.870311</td>\n",
       "      <td>3.297024</td>\n",
       "      <td>2.740073</td>\n",
       "      <td>3.995588</td>\n",
       "      <td>1.540397</td>\n",
       "      <td>3.777997</td>\n",
       "      <td>2.878926</td>\n",
       "      <td>3.628296</td>\n",
       "      <td>0.365719</td>\n",
       "      <td>1.340627</td>\n",
       "    </tr>\n",
       "    <tr>\n",
       "      <th>CS_1395</th>\n",
       "      <td>1.899416</td>\n",
       "      <td>6.767870</td>\n",
       "      <td>7.996662</td>\n",
       "      <td>-0.670103</td>\n",
       "      <td>3.120608</td>\n",
       "      <td>8.534900</td>\n",
       "      <td>0.443633</td>\n",
       "      <td>5.489125</td>\n",
       "      <td>2.047873</td>\n",
       "      <td>1.288864</td>\n",
       "      <td>...</td>\n",
       "      <td>2.189278</td>\n",
       "      <td>1.008945</td>\n",
       "      <td>1.188942</td>\n",
       "      <td>1.046547</td>\n",
       "      <td>1.063451</td>\n",
       "      <td>3.201226</td>\n",
       "      <td>0.015819</td>\n",
       "      <td>1.694257</td>\n",
       "      <td>1.369224</td>\n",
       "      <td>0.815682</td>\n",
       "    </tr>\n",
       "    <tr>\n",
       "      <th>99</th>\n",
       "      <td>3.045093</td>\n",
       "      <td>3.107958</td>\n",
       "      <td>1.882044</td>\n",
       "      <td>3.526738</td>\n",
       "      <td>2.641804</td>\n",
       "      <td>2.238936</td>\n",
       "      <td>2.699685</td>\n",
       "      <td>2.330591</td>\n",
       "      <td>2.701396</td>\n",
       "      <td>3.082272</td>\n",
       "      <td>...</td>\n",
       "      <td>2.453662</td>\n",
       "      <td>1.332310</td>\n",
       "      <td>1.253517</td>\n",
       "      <td>1.730143</td>\n",
       "      <td>0.693470</td>\n",
       "      <td>2.642581</td>\n",
       "      <td>1.945085</td>\n",
       "      <td>2.185378</td>\n",
       "      <td>0.270525</td>\n",
       "      <td>0.467959</td>\n",
       "    </tr>\n",
       "  </tbody>\n",
       "</table>\n",
       "<p>5 rows × 267 columns</p>\n",
       "</div>"
      ],
      "text/plain": [
       "            13580     13929     13903      13912     13830     12368  \\\n",
       "29       1.912463  1.872852  0.757933   1.908907  1.815770  1.717744   \n",
       "CS_1320  1.109225  3.832714  9.665217   6.024963  1.823332  5.756903   \n",
       "CS_1285  6.112684  5.847890  7.105921  11.736896  3.170207 -0.792439   \n",
       "CS_1395  1.899416  6.767870  7.996662  -0.670103  3.120608  8.534900   \n",
       "99       3.045093  3.107958  1.882044   3.526738  2.641804  2.238936   \n",
       "\n",
       "            13454      13735     13774     13862  ...     13820     13930  \\\n",
       "29       1.790834   0.864771  1.840792  2.119133  ...  1.615354  0.784634   \n",
       "CS_1320  0.782163   4.773254  0.442550 -0.027589  ...  0.583908  1.733889   \n",
       "CS_1285  4.720596  10.425315  3.661166  4.247937  ...  3.870311  3.297024   \n",
       "CS_1395  0.443633   5.489125  2.047873  1.288864  ...  2.189278  1.008945   \n",
       "99       2.699685   2.330591  2.701396  3.082272  ...  2.453662  1.332310   \n",
       "\n",
       "            13566     13924     13899     12366     13725     13856     13751  \\\n",
       "29       0.764117  1.042344  0.412441  1.758147  1.337034  1.432245  0.155935   \n",
       "CS_1320  1.635872  0.872627  1.351178  1.592694 -0.658722  0.918049  0.552783   \n",
       "CS_1285  2.740073  3.995588  1.540397  3.777997  2.878926  3.628296  0.365719   \n",
       "CS_1395  1.188942  1.046547  1.063451  3.201226  0.015819  1.694257  1.369224   \n",
       "99       1.253517  1.730143  0.693470  2.642581  1.945085  2.185378  0.270525   \n",
       "\n",
       "            13678  \n",
       "29       0.248952  \n",
       "CS_1320  0.957772  \n",
       "CS_1285  1.340627  \n",
       "CS_1395  0.815682  \n",
       "99       0.467959  \n",
       "\n",
       "[5 rows x 267 columns]"
      ]
     },
     "execution_count": 48,
     "metadata": {},
     "output_type": "execute_result"
    }
   ],
   "source": [
    "df_recommendation = pd.read_csv('Final_recommendation_array.csv', index_col = 'Unnamed: 0')\n",
    "df_recommendation.head()"
   ]
  },
  {
   "cell_type": "code",
   "execution_count": 49,
   "id": "27ee94bc",
   "metadata": {},
   "outputs": [
    {
     "name": "stdout",
     "output_type": "stream",
     "text": [
      "Max value in df_recommendation 40.0804510374392\n",
      "Max value in df_recommendation -12.422645509452352\n"
     ]
    }
   ],
   "source": [
    "# Let's check the min and max value predicted by our model\n",
    "print(f'Max value in df_recommendation {np.max(df_recommendation.to_numpy())}')\n",
    "print(f'Max value in df_recommendation {np.min(df_recommendation.to_numpy())}')\n",
    "\n",
    "\n",
    "## Predicted Value should be between 0 - 15, as we have cap the value to 15, Not so bad pred max value almost 15, \n",
    "# but min value is -1.8,Which concerns me.\n",
    "# I don't have access to the real data about course to see is two courses are close to each other base on this.\n",
    "# But, -ve value we can assume that user don't want to see the course, Also as we have executed for 200 epochs."
   ]
  },
  {
   "cell_type": "markdown",
   "id": "f2f19ea5",
   "metadata": {},
   "source": [
    "### f) user whose interest are similar  \n",
    "<a id=\"Section_3_5\" ></a>  \n",
    " We will have distance between two user using similarity score between two vectors we just calculates, There are different similarity functions available, We can also use cosine similarity for this task\n",
    " \n",
    "$\\large similarity(a, b) = \\frac {\\sum (r_{a,c} -r_{a\\_mean}) (r_{b,c} -r_{b\\_mean})}{(\\sqrt{\\sum (r_{a,c} -r_{a\\_mean})^2})(\\sqrt{\\sum (r_{b,c} -r_{b\\_mean})^2})} $"
   ]
  },
  {
   "cell_type": "code",
   "execution_count": 50,
   "id": "e20235b4",
   "metadata": {},
   "outputs": [],
   "source": [
    "users = list(df_recommendation.columns)\n",
    "content = list(df_recommendation.index)\n"
   ]
  },
  {
   "cell_type": "code",
   "execution_count": 51,
   "id": "5f38f169",
   "metadata": {},
   "outputs": [],
   "source": [
    "def similarity_between_two_vector(array_a, array_b):\n",
    "    mean_a = np.mean(array_a)\n",
    "    mean_b = np.mean(array_b)\n",
    "    num = np.sum((array_a - mean_a)*(array_b - mean_b))\n",
    "\n",
    "    den = np.sqrt(np.sum(np.square(array_a - mean_a))) * np.sqrt(np.sum(np.square(array_b - mean_b)))\n",
    "    \n",
    "    return num/den"
   ]
  },
  {
   "cell_type": "code",
   "execution_count": 52,
   "id": "f0509eaa",
   "metadata": {},
   "outputs": [],
   "source": [
    "def get_similar_user_df(username, users, how_many_similar_useryou_want= 20):\n",
    "\n",
    "    array_a = df_recommendation.loc[:, username].to_numpy()\n",
    "    similarity_score_list = []\n",
    "    for user in users:\n",
    "        array_b = df_recommendation.loc[:, user].to_numpy()\n",
    "        similarity_score = similarity_between_two_vector(array_a, array_b)\n",
    "        similarity_score_list.append(similarity_score)\n",
    "\n",
    "    similarity_df = pd.DataFrame()\n",
    "    similarity_df['User'] = users\n",
    "    similarity_df['Similarity_score'] = similarity_score_list\n",
    "    return similarity_df.sort_values(by = 'Similarity_score', ascending=False).head(how_many_similar_useryou_want)"
   ]
  },
  {
   "cell_type": "code",
   "execution_count": 53,
   "id": "4e9299f4",
   "metadata": {},
   "outputs": [
    {
     "data": {
      "text/html": [
       "<div>\n",
       "<style scoped>\n",
       "    .dataframe tbody tr th:only-of-type {\n",
       "        vertical-align: middle;\n",
       "    }\n",
       "\n",
       "    .dataframe tbody tr th {\n",
       "        vertical-align: top;\n",
       "    }\n",
       "\n",
       "    .dataframe thead th {\n",
       "        text-align: right;\n",
       "    }\n",
       "</style>\n",
       "<table border=\"1\" class=\"dataframe\">\n",
       "  <thead>\n",
       "    <tr style=\"text-align: right;\">\n",
       "      <th></th>\n",
       "      <th>User</th>\n",
       "      <th>Similarity_score</th>\n",
       "    </tr>\n",
       "  </thead>\n",
       "  <tbody>\n",
       "    <tr>\n",
       "      <th>0</th>\n",
       "      <td>13580</td>\n",
       "      <td>1.000000</td>\n",
       "    </tr>\n",
       "    <tr>\n",
       "      <th>117</th>\n",
       "      <td>13879</td>\n",
       "      <td>0.996527</td>\n",
       "    </tr>\n",
       "    <tr>\n",
       "      <th>46</th>\n",
       "      <td>13519</td>\n",
       "      <td>0.995693</td>\n",
       "    </tr>\n",
       "    <tr>\n",
       "      <th>260</th>\n",
       "      <td>13924</td>\n",
       "      <td>0.995582</td>\n",
       "    </tr>\n",
       "    <tr>\n",
       "      <th>214</th>\n",
       "      <td>13925</td>\n",
       "      <td>0.994307</td>\n",
       "    </tr>\n",
       "    <tr>\n",
       "      <th>69</th>\n",
       "      <td>13588</td>\n",
       "      <td>0.994220</td>\n",
       "    </tr>\n",
       "    <tr>\n",
       "      <th>179</th>\n",
       "      <td>13655</td>\n",
       "      <td>0.993128</td>\n",
       "    </tr>\n",
       "    <tr>\n",
       "      <th>243</th>\n",
       "      <td>13780</td>\n",
       "      <td>0.992890</td>\n",
       "    </tr>\n",
       "    <tr>\n",
       "      <th>102</th>\n",
       "      <td>13705</td>\n",
       "      <td>0.992749</td>\n",
       "    </tr>\n",
       "    <tr>\n",
       "      <th>87</th>\n",
       "      <td>12372</td>\n",
       "      <td>0.991542</td>\n",
       "    </tr>\n",
       "    <tr>\n",
       "      <th>26</th>\n",
       "      <td>13595</td>\n",
       "      <td>0.990735</td>\n",
       "    </tr>\n",
       "    <tr>\n",
       "      <th>174</th>\n",
       "      <td>13843</td>\n",
       "      <td>0.990207</td>\n",
       "    </tr>\n",
       "    <tr>\n",
       "      <th>257</th>\n",
       "      <td>13820</td>\n",
       "      <td>0.990048</td>\n",
       "    </tr>\n",
       "    <tr>\n",
       "      <th>168</th>\n",
       "      <td>13758</td>\n",
       "      <td>0.989942</td>\n",
       "    </tr>\n",
       "    <tr>\n",
       "      <th>226</th>\n",
       "      <td>13866</td>\n",
       "      <td>0.989726</td>\n",
       "    </tr>\n",
       "    <tr>\n",
       "      <th>149</th>\n",
       "      <td>13754</td>\n",
       "      <td>0.989589</td>\n",
       "    </tr>\n",
       "    <tr>\n",
       "      <th>170</th>\n",
       "      <td>13708</td>\n",
       "      <td>0.989583</td>\n",
       "    </tr>\n",
       "    <tr>\n",
       "      <th>244</th>\n",
       "      <td>13949</td>\n",
       "      <td>0.989238</td>\n",
       "    </tr>\n",
       "    <tr>\n",
       "      <th>264</th>\n",
       "      <td>13856</td>\n",
       "      <td>0.988910</td>\n",
       "    </tr>\n",
       "    <tr>\n",
       "      <th>190</th>\n",
       "      <td>13741</td>\n",
       "      <td>0.988783</td>\n",
       "    </tr>\n",
       "  </tbody>\n",
       "</table>\n",
       "</div>"
      ],
      "text/plain": [
       "      User  Similarity_score\n",
       "0    13580          1.000000\n",
       "117  13879          0.996527\n",
       "46   13519          0.995693\n",
       "260  13924          0.995582\n",
       "214  13925          0.994307\n",
       "69   13588          0.994220\n",
       "179  13655          0.993128\n",
       "243  13780          0.992890\n",
       "102  13705          0.992749\n",
       "87   12372          0.991542\n",
       "26   13595          0.990735\n",
       "174  13843          0.990207\n",
       "257  13820          0.990048\n",
       "168  13758          0.989942\n",
       "226  13866          0.989726\n",
       "149  13754          0.989589\n",
       "170  13708          0.989583\n",
       "244  13949          0.989238\n",
       "264  13856          0.988910\n",
       "190  13741          0.988783"
      ]
     },
     "execution_count": 53,
     "metadata": {},
     "output_type": "execute_result"
    }
   ],
   "source": [
    "username = 13580\n",
    "username = str(username)\n",
    "get_similar_user_df(username, users, how_many_similar_useryou_want= 20)"
   ]
  },
  {
   "cell_type": "markdown",
   "id": "e8f12ab9",
   "metadata": {},
   "source": [
    "### g) Probable similar content  \n",
    "<a id=\"Section_3_6\" ></a>  \n",
    "As we are asked to solve recommender system for formal content, I have added flag in the function , If you want formal content,\n",
    "of informal content too.\n",
    "Let's use the similarity function we created earliar to find probable similar conent"
   ]
  },
  {
   "cell_type": "code",
   "execution_count": 54,
   "id": "5c4fd819",
   "metadata": {},
   "outputs": [],
   "source": [
    "\n",
    "def get_similar_user_df(content_name, contents, how_many_similar_useryou_want= 20, formal_content = True):\n",
    "    array_a = df_recommendation.loc[ content_name, :].to_numpy()\n",
    "    similarity_score_list = []\n",
    "    for content in contents:\n",
    "        array_b = df_recommendation.loc[content, :].to_numpy()\n",
    "        similarity_score = similarity_between_two_vector(array_a, array_b)\n",
    "        similarity_score_list.append(similarity_score)\n",
    "\n",
    "    similarity_df = pd.DataFrame()\n",
    "    similarity_df['Content'] = contents\n",
    "    similarity_df['Similarity_score'] = similarity_score_list\n",
    "    s = similarity_df.sort_values(by = 'Similarity_score', ascending=False)\n",
    "    if formal_content == False:\n",
    "        return s.head(how_many_similar_useryou_want)\n",
    "    \n",
    "    else:\n",
    "        return s[s['Content'].str.startswith('CS')==False].sort_values(by = 'Similarity_score', ascending=False).head(how_many_similar_useryou_want)"
   ]
  },
  {
   "cell_type": "code",
   "execution_count": 55,
   "id": "98f570f0",
   "metadata": {},
   "outputs": [
    {
     "data": {
      "text/html": [
       "<div>\n",
       "<style scoped>\n",
       "    .dataframe tbody tr th:only-of-type {\n",
       "        vertical-align: middle;\n",
       "    }\n",
       "\n",
       "    .dataframe tbody tr th {\n",
       "        vertical-align: top;\n",
       "    }\n",
       "\n",
       "    .dataframe thead th {\n",
       "        text-align: right;\n",
       "    }\n",
       "</style>\n",
       "<table border=\"1\" class=\"dataframe\">\n",
       "  <thead>\n",
       "    <tr style=\"text-align: right;\">\n",
       "      <th></th>\n",
       "      <th>Content</th>\n",
       "      <th>Similarity_score</th>\n",
       "    </tr>\n",
       "  </thead>\n",
       "  <tbody>\n",
       "    <tr>\n",
       "      <th>664</th>\n",
       "      <td>181</td>\n",
       "      <td>0.987811</td>\n",
       "    </tr>\n",
       "    <tr>\n",
       "      <th>683</th>\n",
       "      <td>70</td>\n",
       "      <td>0.982545</td>\n",
       "    </tr>\n",
       "    <tr>\n",
       "      <th>615</th>\n",
       "      <td>273</td>\n",
       "      <td>0.979519</td>\n",
       "    </tr>\n",
       "    <tr>\n",
       "      <th>289</th>\n",
       "      <td>275</td>\n",
       "      <td>0.955915</td>\n",
       "    </tr>\n",
       "    <tr>\n",
       "      <th>444</th>\n",
       "      <td>6</td>\n",
       "      <td>0.953691</td>\n",
       "    </tr>\n",
       "    <tr>\n",
       "      <th>514</th>\n",
       "      <td>197</td>\n",
       "      <td>0.930538</td>\n",
       "    </tr>\n",
       "    <tr>\n",
       "      <th>702</th>\n",
       "      <td>327</td>\n",
       "      <td>0.891303</td>\n",
       "    </tr>\n",
       "    <tr>\n",
       "      <th>739</th>\n",
       "      <td>135</td>\n",
       "      <td>0.879750</td>\n",
       "    </tr>\n",
       "    <tr>\n",
       "      <th>785</th>\n",
       "      <td>234</td>\n",
       "      <td>0.876903</td>\n",
       "    </tr>\n",
       "    <tr>\n",
       "      <th>643</th>\n",
       "      <td>274</td>\n",
       "      <td>0.859116</td>\n",
       "    </tr>\n",
       "    <tr>\n",
       "      <th>590</th>\n",
       "      <td>295</td>\n",
       "      <td>0.848513</td>\n",
       "    </tr>\n",
       "    <tr>\n",
       "      <th>464</th>\n",
       "      <td>284</td>\n",
       "      <td>0.847803</td>\n",
       "    </tr>\n",
       "    <tr>\n",
       "      <th>535</th>\n",
       "      <td>410</td>\n",
       "      <td>0.845488</td>\n",
       "    </tr>\n",
       "    <tr>\n",
       "      <th>718</th>\n",
       "      <td>244</td>\n",
       "      <td>0.843039</td>\n",
       "    </tr>\n",
       "    <tr>\n",
       "      <th>140</th>\n",
       "      <td>272</td>\n",
       "      <td>0.839398</td>\n",
       "    </tr>\n",
       "    <tr>\n",
       "      <th>589</th>\n",
       "      <td>43</td>\n",
       "      <td>0.835460</td>\n",
       "    </tr>\n",
       "    <tr>\n",
       "      <th>631</th>\n",
       "      <td>246</td>\n",
       "      <td>0.831104</td>\n",
       "    </tr>\n",
       "    <tr>\n",
       "      <th>299</th>\n",
       "      <td>218</td>\n",
       "      <td>0.828444</td>\n",
       "    </tr>\n",
       "    <tr>\n",
       "      <th>208</th>\n",
       "      <td>270</td>\n",
       "      <td>0.822480</td>\n",
       "    </tr>\n",
       "    <tr>\n",
       "      <th>468</th>\n",
       "      <td>100</td>\n",
       "      <td>0.807516</td>\n",
       "    </tr>\n",
       "  </tbody>\n",
       "</table>\n",
       "</div>"
      ],
      "text/plain": [
       "    Content  Similarity_score\n",
       "664     181          0.987811\n",
       "683      70          0.982545\n",
       "615     273          0.979519\n",
       "289     275          0.955915\n",
       "444       6          0.953691\n",
       "514     197          0.930538\n",
       "702     327          0.891303\n",
       "739     135          0.879750\n",
       "785     234          0.876903\n",
       "643     274          0.859116\n",
       "590     295          0.848513\n",
       "464     284          0.847803\n",
       "535     410          0.845488\n",
       "718     244          0.843039\n",
       "140     272          0.839398\n",
       "589      43          0.835460\n",
       "631     246          0.831104\n",
       "299     218          0.828444\n",
       "208     270          0.822480\n",
       "468     100          0.807516"
      ]
     },
     "execution_count": 55,
     "metadata": {},
     "output_type": "execute_result"
    }
   ],
   "source": [
    "content_name = 'CS_1320'\n",
    "get_similar_user_df(content_name, content, how_many_similar_useryou_want= 20, formal_content = True)"
   ]
  },
  {
   "cell_type": "markdown",
   "id": "0e859da1",
   "metadata": {},
   "source": [
    "### h) Let's make hands dirty, and give recommendation to given user  \n",
    "<a id=\"Section_3_7\" ></a>  "
   ]
  },
  {
   "cell_type": "markdown",
   "id": "b0212830",
   "metadata": {},
   "source": [
    "Let's take our favourite user  =13580, and will give recommendation to him  \n",
    "Now we have taken 10, content that user may like, but we have already having funcion, which will give similar content   \n",
    "to each of the below.  \n",
    "Now when I am writing this notebook, I got this result for 13580, Now we can take each these content and calculate 2 for each,  \n",
    "So that we will have total 30 recommendation .  \n",
    "\n",
    "CS_1395    3.000023  \n",
    "99         2.508396  \n",
    "29         1.999795  \n",
    "CS_1320    1.000044  \n",
    "CS_1350    0.219192  \n",
    "CS_1342    0.201178  \n",
    "CS_1400    0.191520   \n",
    "CS_461     0.188397  \n",
    "CS_437     0.174569  \n",
    "CS_1094    0.172834  \n"
   ]
  },
  {
   "cell_type": "code",
   "execution_count": 56,
   "id": "c12f2d17",
   "metadata": {},
   "outputs": [],
   "source": [
    "# Recommendation to given user, we can just filter the dataframe to recommend the formal courses,\n",
    "# Now We are also interested after recommending the courses which are similar to this courses, So in the next cell we took that \n",
    "# couses and founded the couses similar to them using probable similar content function we created before.\n",
    "user_name = 13580\n",
    "user_name = str(user_name)\n",
    "recommendation_for_user = df_recommendation.loc[:, user_name].sort_values(ascending=False).to_frame().reset_index()\n",
    "recommendation_for_user = recommendation_for_user[recommendation_for_user['index'].str.startswith('CS') == False].head(10)"
   ]
  },
  {
   "cell_type": "code",
   "execution_count": 57,
   "id": "dfc75641",
   "metadata": {},
   "outputs": [
    {
     "name": "stdout",
     "output_type": "stream",
     "text": [
      "Courses Similar to the 88\n",
      "   Content  Similarity_score\n",
      "74      88           1.00000\n",
      "88      90           0.99971\n",
      "--------------------------------------------------\n",
      "Courses Similar to the 89\n",
      "   Content  Similarity_score\n",
      "34      89          1.000000\n",
      "99      95          0.985207\n",
      "--------------------------------------------------\n",
      "Courses Similar to the 162\n",
      "    Content  Similarity_score\n",
      "89      162          1.000000\n",
      "258     173          0.995303\n",
      "--------------------------------------------------\n",
      "Courses Similar to the 87\n",
      "    Content  Similarity_score\n",
      "41       87          1.000000\n",
      "232     158          0.999578\n",
      "--------------------------------------------------\n",
      "Courses Similar to the 303\n",
      "    Content  Similarity_score\n",
      "80      303          1.000000\n",
      "193     296          0.986776\n",
      "--------------------------------------------------\n",
      "Courses Similar to the 178\n",
      "    Content  Similarity_score\n",
      "47      178          1.000000\n",
      "101     304          0.996915\n",
      "--------------------------------------------------\n",
      "Courses Similar to the 91\n",
      "   Content  Similarity_score\n",
      "86      91          1.000000\n",
      "88      90          0.995393\n",
      "--------------------------------------------------\n",
      "Courses Similar to the 47\n",
      "   Content  Similarity_score\n",
      "36      47          1.000000\n",
      "27      46          0.990444\n",
      "--------------------------------------------------\n",
      "Courses Similar to the 69\n",
      "    Content  Similarity_score\n",
      "472      69          1.000000\n",
      "86       91          0.974772\n",
      "--------------------------------------------------\n",
      "Courses Similar to the 281\n",
      "    Content  Similarity_score\n",
      "113     281           1.00000\n",
      "763     171           0.99892\n",
      "--------------------------------------------------\n"
     ]
    }
   ],
   "source": [
    "# User may also like this\n",
    "for content_name in list(recommendation_for_user['index']):\n",
    "    print(f'Courses Similar to the {content_name}')\n",
    "    print(get_similar_user_df(content_name, content, how_many_similar_useryou_want= 2, formal_content = True))\n",
    "    print('-'*50)"
   ]
  },
  {
   "cell_type": "markdown",
   "id": "6edef419",
   "metadata": {},
   "source": [
    "## Q4. Details about recommendation model.  \n",
    "<a id=\"Section_4\"></a>"
   ]
  },
  {
   "cell_type": "markdown",
   "id": "b0401fc5",
   "metadata": {},
   "source": [
    "1) To build this recommendation system we have used collaborative filtering where we are learning features of content and user  \n",
    "2) So we had, columns as a idUser and indexes as content. this was a task to decide the prediction for our minimization problem.\n",
    "So i decided to create a value which will behave as a rating to the content from 1-15. In \"viewed\"(Number of times user watched particular content) value were from 1-928.    \n",
    "To solve this problem there were two ways   \n",
    "> a) To map this from 1-928, to 1-5, But before doing this i have check the distrubution of values from 1-928, But i saw a \n",
    "lot of values lie in the range of 1-15 , If i do mapping to 1-5, i will get really small values which can be issue to fit the model.  \n",
    "b) From above observation i have cap values to 15 and if value is greater than 15 then i replaced that value with 15.  \n",
    "\n",
    "\n",
    "3) Now, as mentioned formula above i have created two function which will take derivative of loss w.r.t. theta and x, To monitor square loss i created another function but as it was time cosuming to do matrix multiplication, I have integrated that code in the \"update_x\" function.  \n",
    "\n",
    "4) All were setup to train our model, So I have initialize the x and theta with normal distrubution and multiplies with 0.1.  \n",
    "5) Value for learning rate choosen in this experiment is 0.05,( I have tried lr with 0.1 to improve the speed of convergence, but loss was inf after some epoch)  \n",
    "6) It is time to implement our recommendation system, We can do in two ways. Let's recommend to user A \n",
    "a) Find user similarity between and recommend according another similar user to A.  \n",
    "b) Find the interest of user A and recommend base on the so called rating in our case.    \n",
    "c) We can also recommend, user might interested using similar content.(content recommended in previous step and finding  \n",
    "\n",
    "\n",
    "\n",
    "**How I can Improve this model**  \n",
    "1) We can play with feature engineering while assigning prediction value to content, idUser pair.  \n",
    "2) I can do hyprparameter tuning of model by initializing epochs and using earlystopping so that our model doesn't overfit.      \n",
    "3) We can deal with different type of similarity measure to calculate similarity between content and user.    \n",
    "4) I can use dimentionality reduction to perform well.    \n",
    "5) I have used gradient descent as a optimizer while solving thisproblem But in fact Adam optimizer perform best as it is combinanation of RMSprop and momentum.If we used Adam, we can get better result.  \n",
    "5) Also, There are bunch of libraries using which we can build recommendation system, As we know neural networks are creating state of art in every sector, Tensorflow also has recommender system, If I had time i will use that.  \n"
   ]
  },
  {
   "cell_type": "markdown",
   "id": "3a3015a7",
   "metadata": {},
   "source": [
    "## Q5.  How to scale the model  \n",
    "<a id=\"Section_5\"></a>"
   ]
  },
  {
   "cell_type": "markdown",
   "id": "95f29599",
   "metadata": {},
   "source": [
    "whether and how your solution could scale  \n",
    "a) number of users and contents.  \n",
    "if any new user come to our recommendation system we can assign avg value of all other rating to that contents, Now we have value of theta vctor, With matix mulriplying with x we will get value of rating at that point. Cold start will be issue , We can ask some information to user about his interest. \n",
    "Same procedure we can apply as above to rows instead of columns.  \n",
    "As our user's and content scale,It will be difficult to deal with huge matrix multiplications, So we can use dimentionality reduction tecniques like PCA and solve the issue.  \n",
    "\n",
    "b) We will get minimum squared error as user is watching content we are getting information and we can feed that information to  our model.\n"
   ]
  },
  {
   "cell_type": "markdown",
   "id": "15e0831d",
   "metadata": {},
   "source": [
    "## Q 6  Representation of relation between user's , content's  \n",
    "<a id=\"Section_6\"></a>\n",
    "First thing in my mind to get correlation matrix between users and contents base on the similarity score we will get.  \n",
    "This graph is only for 20 user's and content's, It's difficult to visualize the whole correlation matrix, So we can do one thing, We can visualize in patches or "
   ]
  },
  {
   "cell_type": "code",
   "execution_count": 58,
   "id": "30513525",
   "metadata": {},
   "outputs": [
    {
     "data": {
      "image/png": "[encoded data removed]",
      "text/plain": [
       "<Figure size 1080x504 with 2 Axes>"
      ]
     },
     "metadata": {
      "needs_background": "light"
     },
     "output_type": "display_data"
    }
   ],
   "source": [
    "\n",
    "plt.figure(figsize=(15,7))\n",
    "df_recommendation.corr()\n",
    "sn.heatmap(df_recommendation.corr().iloc[:20,:20], annot=True)\n",
    "plt.show()"
   ]
  },
  {
   "cell_type": "code",
   "execution_count": 59,
   "id": "d6e15b74",
   "metadata": {
    "scrolled": true
   },
   "outputs": [
    {
     "data": {
      "image/png": "[encoded data removed]",
      "text/plain": [
       "<Figure size 1080x504 with 2 Axes>"
      ]
     },
     "metadata": {
      "needs_background": "light"
     },
     "output_type": "display_data"
    }
   ],
   "source": [
    "\n",
    "\n",
    "plt.figure(figsize=(15,7))\n",
    "df_recommendation.corr()\n",
    "sn.heatmap(df_recommendation.T.corr().iloc[:20,:20], annot=True)\n",
    "plt.show()"
   ]
  },
  {
   "cell_type": "markdown",
   "id": "7a31eb09",
   "metadata": {},
   "source": [
    "## References  \n",
    "<a id = \"Reference\"></a>\n",
    "1) [Andrew Ng](https://www.youtube.com/playlist?list=PLLssT5z_DsK-h9vYZkQkYNWcItqhlRJLN)"
   ]
  },
  {
   "cell_type": "code",
   "execution_count": null,
   "id": "57527947",
   "metadata": {},
   "outputs": [],
   "source": []
  }
 ],
 "metadata": {
  "kernelspec": {
   "display_name": "Python 3",
   "language": "python",
   "name": "python3"
  },
  "language_info": {
   "codemirror_mode": {
    "name": "ipython",
    "version": 3
   },
   "file_extension": ".py",
   "mimetype": "text/x-python",
   "name": "python",
   "nbconvert_exporter": "python",
   "pygments_lexer": "ipython3",
   "version": "3.8.8"
  }
 },
 "nbformat": 4,
 "nbformat_minor": 5
}
